{
 "cells": [
  {
   "cell_type": "code",
   "execution_count": 1,
   "outputs": [],
   "source": [
    "import matplotlib.pyplot as plt\n",
    "import numpy as np\n",
    "import pandas as pd\n",
    "from datetime import datetime"
   ],
   "metadata": {
    "collapsed": false,
    "ExecuteTime": {
     "end_time": "2023-10-28T20:10:20.614646Z",
     "start_time": "2023-10-28T20:10:18.859761Z"
    }
   }
  },
  {
   "cell_type": "code",
   "execution_count": 2,
   "outputs": [],
   "source": [
    "import os\n",
    "#set path for root directory\n",
    "ROOT_DIR = os.path.abspath(os.curdir)"
   ],
   "metadata": {
    "collapsed": false,
    "ExecuteTime": {
     "end_time": "2023-10-28T20:10:21.421819Z",
     "start_time": "2023-10-28T20:10:21.418803Z"
    }
   }
  },
  {
   "cell_type": "code",
   "execution_count": 3,
   "outputs": [],
   "source": [
    "#%reload_ext autoreload\n",
    "#%autoreload 1"
   ],
   "metadata": {
    "collapsed": false,
    "ExecuteTime": {
     "end_time": "2023-10-28T20:10:22.570346Z",
     "start_time": "2023-10-28T20:10:22.548570Z"
    }
   }
  },
  {
   "cell_type": "code",
   "execution_count": 22,
   "outputs": [
    {
     "data": {
      "text/plain": "<module 'hydroplotting.plotting' from '/Users/nicoleta/Desktop/code/Snow_SCL/hydroplotting/plotting.py'>"
     },
     "execution_count": 22,
     "metadata": {},
     "output_type": "execute_result"
    }
   ],
   "source": [
    "import importlib\n",
    "from hydroplotting import funcutils as fc\n",
    "from hydroplotting import efficiency as eff\n",
    "from hydroplotting import metrics as mt\n",
    "from hydroplotting import plotting as pt\n",
    "importlib.reload(mt)\n",
    "importlib.reload(fc)\n",
    "importlib.reload(pt)"
   ],
   "metadata": {
    "collapsed": false,
    "ExecuteTime": {
     "end_time": "2023-10-28T22:09:39.736832Z",
     "start_time": "2023-10-28T22:09:39.727676Z"
    }
   }
  },
  {
   "cell_type": "code",
   "execution_count": 5,
   "outputs": [],
   "source": [
    "#get paths for data files\n",
    "path_Skook_obs = ROOT_DIR + '/Data/Raw/bcqc_47.68000_-121.61000._Skookum_Creek.txt'\n",
    "path_Alpine_obs = ROOT_DIR + '/Data/Raw/bcqc_47.78000_-121.70000_Alpine_Meadows.txt'\n",
    "path_Stevens_obs = ROOT_DIR + '/Data/Raw/bcqc_47.78000_-121.70000_Alpine_Meadows.txt'"
   ],
   "metadata": {
    "collapsed": false,
    "ExecuteTime": {
     "end_time": "2023-10-28T20:16:38.432045Z",
     "start_time": "2023-10-28T20:16:38.422072Z"
    }
   }
  },
  {
   "cell_type": "code",
   "execution_count": 6,
   "outputs": [],
   "source": [
    "#get into data frames\n",
    "df_snotel_Skookum = fc.snotel_data(path_Skook_obs)\n",
    "df_snotel_Alpine = fc.snotel_data(path_Alpine_obs)\n",
    "df_snotel_Stevens = fc.snotel_data(path_Stevens_obs)"
   ],
   "metadata": {
    "collapsed": false,
    "ExecuteTime": {
     "end_time": "2023-10-28T20:18:23.212128Z",
     "start_time": "2023-10-28T20:18:23.118638Z"
    }
   }
  },
  {
   "cell_type": "code",
   "execution_count": 8,
   "outputs": [
    {
     "data": {
      "text/plain": "            year  month  day  daily_P_in  Tmax_F  Tmin_F  Tmean_F  SWE_in  \\\n1995-08-30  1995      8   30         NaN   65.40   48.92    53.04     0.0   \n1995-08-31  1995      8   31         NaN   72.61   48.92    61.28     0.0   \n1995-09-01  1995      9    1         NaN   78.79   58.19    67.46     0.0   \n1995-09-02  1995      9    2         NaN   82.91   58.19    68.49     0.0   \n1995-09-03  1995      9    3         NaN   80.85   50.98    62.31     0.0   \n...          ...    ...  ...         ...     ...     ...      ...     ...   \n2021-09-26  2021      9   26         0.3   56.13   43.77    50.98     0.1   \n2021-09-27  2021      9   27         1.5   50.98   40.68    44.80     0.2   \n2021-09-28  2021      9   28         1.9   43.77   39.65    41.71     0.2   \n2021-09-29  2021      9   29         0.0   50.98   38.62    44.80     0.2   \n2021-09-30  2021      9   30         1.6   52.01   40.68    46.86     0.2   \n\n              Tmean_C     Tmin_C     Tmax_C    SWE_m   datetime  water_year  \\\n1995-08-30  11.688889   9.400000  18.555556  0.00000 1995-08-30        1995   \n1995-08-31  16.266667   9.400000  22.561111  0.00000 1995-08-31        1995   \n1995-09-01  19.700000  14.550000  25.994444  0.00000 1995-09-01        1995   \n1995-09-02  20.272222  14.550000  28.283333  0.00000 1995-09-02        1995   \n1995-09-03  16.838889  10.544444  27.138889  0.00000 1995-09-03        1995   \n...               ...        ...        ...      ...        ...         ...   \n2021-09-26  10.544444   6.538889  13.405556  0.00254 2021-09-26        2021   \n2021-09-27   7.111111   4.822222  10.544444  0.00508 2021-09-27        2021   \n2021-09-28   5.394444   4.250000   6.538889  0.00508 2021-09-28        2021   \n2021-09-29   7.111111   3.677778  10.544444  0.00508 2021-09-29        2021   \n2021-09-30   8.255556   4.822222  11.116667  0.00508 2021-09-30        2021   \n\n           water_year_str  \n1995-08-30           1995  \n1995-08-31           1995  \n1995-09-01           1995  \n1995-09-02           1995  \n1995-09-03           1995  \n...                   ...  \n2021-09-26           2021  \n2021-09-27           2021  \n2021-09-28           2021  \n2021-09-29           2021  \n2021-09-30           2021  \n\n[9529 rows x 15 columns]",
      "text/html": "<div>\n<style scoped>\n    .dataframe tbody tr th:only-of-type {\n        vertical-align: middle;\n    }\n\n    .dataframe tbody tr th {\n        vertical-align: top;\n    }\n\n    .dataframe thead th {\n        text-align: right;\n    }\n</style>\n<table border=\"1\" class=\"dataframe\">\n  <thead>\n    <tr style=\"text-align: right;\">\n      <th></th>\n      <th>year</th>\n      <th>month</th>\n      <th>day</th>\n      <th>daily_P_in</th>\n      <th>Tmax_F</th>\n      <th>Tmin_F</th>\n      <th>Tmean_F</th>\n      <th>SWE_in</th>\n      <th>Tmean_C</th>\n      <th>Tmin_C</th>\n      <th>Tmax_C</th>\n      <th>SWE_m</th>\n      <th>datetime</th>\n      <th>water_year</th>\n      <th>water_year_str</th>\n    </tr>\n  </thead>\n  <tbody>\n    <tr>\n      <th>1995-08-30</th>\n      <td>1995</td>\n      <td>8</td>\n      <td>30</td>\n      <td>NaN</td>\n      <td>65.40</td>\n      <td>48.92</td>\n      <td>53.04</td>\n      <td>0.0</td>\n      <td>11.688889</td>\n      <td>9.400000</td>\n      <td>18.555556</td>\n      <td>0.00000</td>\n      <td>1995-08-30</td>\n      <td>1995</td>\n      <td>1995</td>\n    </tr>\n    <tr>\n      <th>1995-08-31</th>\n      <td>1995</td>\n      <td>8</td>\n      <td>31</td>\n      <td>NaN</td>\n      <td>72.61</td>\n      <td>48.92</td>\n      <td>61.28</td>\n      <td>0.0</td>\n      <td>16.266667</td>\n      <td>9.400000</td>\n      <td>22.561111</td>\n      <td>0.00000</td>\n      <td>1995-08-31</td>\n      <td>1995</td>\n      <td>1995</td>\n    </tr>\n    <tr>\n      <th>1995-09-01</th>\n      <td>1995</td>\n      <td>9</td>\n      <td>1</td>\n      <td>NaN</td>\n      <td>78.79</td>\n      <td>58.19</td>\n      <td>67.46</td>\n      <td>0.0</td>\n      <td>19.700000</td>\n      <td>14.550000</td>\n      <td>25.994444</td>\n      <td>0.00000</td>\n      <td>1995-09-01</td>\n      <td>1995</td>\n      <td>1995</td>\n    </tr>\n    <tr>\n      <th>1995-09-02</th>\n      <td>1995</td>\n      <td>9</td>\n      <td>2</td>\n      <td>NaN</td>\n      <td>82.91</td>\n      <td>58.19</td>\n      <td>68.49</td>\n      <td>0.0</td>\n      <td>20.272222</td>\n      <td>14.550000</td>\n      <td>28.283333</td>\n      <td>0.00000</td>\n      <td>1995-09-02</td>\n      <td>1995</td>\n      <td>1995</td>\n    </tr>\n    <tr>\n      <th>1995-09-03</th>\n      <td>1995</td>\n      <td>9</td>\n      <td>3</td>\n      <td>NaN</td>\n      <td>80.85</td>\n      <td>50.98</td>\n      <td>62.31</td>\n      <td>0.0</td>\n      <td>16.838889</td>\n      <td>10.544444</td>\n      <td>27.138889</td>\n      <td>0.00000</td>\n      <td>1995-09-03</td>\n      <td>1995</td>\n      <td>1995</td>\n    </tr>\n    <tr>\n      <th>...</th>\n      <td>...</td>\n      <td>...</td>\n      <td>...</td>\n      <td>...</td>\n      <td>...</td>\n      <td>...</td>\n      <td>...</td>\n      <td>...</td>\n      <td>...</td>\n      <td>...</td>\n      <td>...</td>\n      <td>...</td>\n      <td>...</td>\n      <td>...</td>\n      <td>...</td>\n    </tr>\n    <tr>\n      <th>2021-09-26</th>\n      <td>2021</td>\n      <td>9</td>\n      <td>26</td>\n      <td>0.3</td>\n      <td>56.13</td>\n      <td>43.77</td>\n      <td>50.98</td>\n      <td>0.1</td>\n      <td>10.544444</td>\n      <td>6.538889</td>\n      <td>13.405556</td>\n      <td>0.00254</td>\n      <td>2021-09-26</td>\n      <td>2021</td>\n      <td>2021</td>\n    </tr>\n    <tr>\n      <th>2021-09-27</th>\n      <td>2021</td>\n      <td>9</td>\n      <td>27</td>\n      <td>1.5</td>\n      <td>50.98</td>\n      <td>40.68</td>\n      <td>44.80</td>\n      <td>0.2</td>\n      <td>7.111111</td>\n      <td>4.822222</td>\n      <td>10.544444</td>\n      <td>0.00508</td>\n      <td>2021-09-27</td>\n      <td>2021</td>\n      <td>2021</td>\n    </tr>\n    <tr>\n      <th>2021-09-28</th>\n      <td>2021</td>\n      <td>9</td>\n      <td>28</td>\n      <td>1.9</td>\n      <td>43.77</td>\n      <td>39.65</td>\n      <td>41.71</td>\n      <td>0.2</td>\n      <td>5.394444</td>\n      <td>4.250000</td>\n      <td>6.538889</td>\n      <td>0.00508</td>\n      <td>2021-09-28</td>\n      <td>2021</td>\n      <td>2021</td>\n    </tr>\n    <tr>\n      <th>2021-09-29</th>\n      <td>2021</td>\n      <td>9</td>\n      <td>29</td>\n      <td>0.0</td>\n      <td>50.98</td>\n      <td>38.62</td>\n      <td>44.80</td>\n      <td>0.2</td>\n      <td>7.111111</td>\n      <td>3.677778</td>\n      <td>10.544444</td>\n      <td>0.00508</td>\n      <td>2021-09-29</td>\n      <td>2021</td>\n      <td>2021</td>\n    </tr>\n    <tr>\n      <th>2021-09-30</th>\n      <td>2021</td>\n      <td>9</td>\n      <td>30</td>\n      <td>1.6</td>\n      <td>52.01</td>\n      <td>40.68</td>\n      <td>46.86</td>\n      <td>0.2</td>\n      <td>8.255556</td>\n      <td>4.822222</td>\n      <td>11.116667</td>\n      <td>0.00508</td>\n      <td>2021-09-30</td>\n      <td>2021</td>\n      <td>2021</td>\n    </tr>\n  </tbody>\n</table>\n<p>9529 rows × 15 columns</p>\n</div>"
     },
     "execution_count": 8,
     "metadata": {},
     "output_type": "execute_result"
    }
   ],
   "source": [
    "#get data into water years\n",
    "fc.calc_water_year_apply(df_snotel_Skookum)\n",
    "df_snotel_Skookum['water_year_str'] = df_snotel_Skookum['water_year'].astype(str)\n",
    "df_snotel_Skookum"
   ],
   "metadata": {
    "collapsed": false,
    "ExecuteTime": {
     "end_time": "2023-10-28T20:29:46.142537Z",
     "start_time": "2023-10-28T20:29:46.106806Z"
    }
   }
  },
  {
   "cell_type": "code",
   "execution_count": 43,
   "outputs": [],
   "source": [
    "df_snotel_Skookum_wy = df_snotel_Skookum.groupby(['water_year_str'])\n",
    "wy_groups = df_snotel_Skookum_wy.groups\n",
    "\n",
    "wy_keys = wy_groups.keys()\n"
   ],
   "metadata": {
    "collapsed": false,
    "ExecuteTime": {
     "end_time": "2023-10-28T23:02:38.856503Z",
     "start_time": "2023-10-28T23:02:38.847510Z"
    }
   }
  },
  {
   "cell_type": "code",
   "execution_count": 38,
   "outputs": [
    {
     "data": {
      "text/plain": "1.5367"
     },
     "execution_count": 38,
     "metadata": {},
     "output_type": "execute_result"
    }
   ],
   "source": [
    "wy_2012 = df_snotel_Skookum_wy.get_group('2012')\n",
    "peak_SWE = wy_2012.SWE_m.max()\n",
    "peak_SWE\n",
    "#peak_swe = mt.peak_swe(wy_2012.SWE_m)"
   ],
   "metadata": {
    "collapsed": false,
    "ExecuteTime": {
     "end_time": "2023-10-28T22:53:36.094869Z",
     "start_time": "2023-10-28T22:53:36.077089Z"
    }
   }
  },
  {
   "cell_type": "code",
   "execution_count": 45,
   "outputs": [
    {
     "data": {
      "text/plain": "dict_keys(['1995', '1996', '1997', '1998', '1999', '2000', '2001', '2002', '2003', '2004', '2005', '2006', '2007', '2008', '2009', '2010', '2011', '2012', '2013', '2014', '2015', '2016', '2017', '2018', '2019', '2020', '2021'])"
     },
     "execution_count": 45,
     "metadata": {},
     "output_type": "execute_result"
    }
   ],
   "source": [],
   "metadata": {
    "collapsed": false,
    "ExecuteTime": {
     "end_time": "2023-10-28T23:03:10.312396Z",
     "start_time": "2023-10-28T23:03:10.311742Z"
    }
   }
  },
  {
   "cell_type": "code",
   "execution_count": 98,
   "outputs": [],
   "source": [
    "def get_peak_swe(df_snotel):\n",
    "    df_snotel_wy = df_snotel.groupby(['water_year_str'])\n",
    "    peak_SWE_wy = dict()\n",
    "    wy_groups = df_snotel_wy.groups\n",
    "    wy_keys = wy_groups.keys()\n",
    "    for i in wy_keys:\n",
    "        wy = df_snotel_wy.get_group(i)\n",
    "        peak_swe = wy.SWE_m.max()\n",
    "        peak_SWE_wy[i] = peak_swe\n",
    "        #print(i)\n",
    "    return peak_SWE_wy\n",
    "        #print(peak_swe_wy[i])"
   ],
   "metadata": {
    "collapsed": false,
    "ExecuteTime": {
     "end_time": "2023-10-29T18:16:15.148303Z",
     "start_time": "2023-10-29T18:16:15.134633Z"
    }
   }
  },
  {
   "cell_type": "code",
   "execution_count": 99,
   "outputs": [
    {
     "data": {
      "text/plain": "dict_values([0.0, 0.23113999999999998, 1.1887199999999998, 0.6959599999999999, 1.35128, 1.0668, 0.54102, 1.5087599999999999, 0.2794, 0.9144, 0.14223999999999998, 1.0287, 0.83058, 2.17678, 1.63322, 0.29717999999999994, 1.16332, 1.5367, 1.40716, 0.9118599999999999, 0.13716, 0.58674, 1.0922, 1.2827, 0.65532, 1.3030199999999998, 1.80848])"
     },
     "execution_count": 99,
     "metadata": {},
     "output_type": "execute_result"
    }
   ],
   "source": [
    "peak_SWE = get_peak_swe(df_snotel_Skookum)\n",
    "peak_SWE.values()\n"
   ],
   "metadata": {
    "collapsed": false,
    "ExecuteTime": {
     "end_time": "2023-10-29T18:16:15.898518Z",
     "start_time": "2023-10-29T18:16:15.886697Z"
    }
   }
  },
  {
   "cell_type": "code",
   "execution_count": 101,
   "outputs": [
    {
     "data": {
      "text/plain": "            year  month  day  daily_P_in  Tmax_F  Tmin_F  Tmean_F  SWE_in  \\\n1995-08-30  1995      8   30         NaN   65.40   48.92    53.04     0.0   \n1995-08-31  1995      8   31         NaN   72.61   48.92    61.28     0.0   \n1995-09-01  1995      9    1         NaN   78.79   58.19    67.46     0.0   \n1995-09-02  1995      9    2         NaN   82.91   58.19    68.49     0.0   \n1995-09-03  1995      9    3         NaN   80.85   50.98    62.31     0.0   \n...          ...    ...  ...         ...     ...     ...      ...     ...   \n2021-09-26  2021      9   26         0.3   56.13   43.77    50.98     0.1   \n2021-09-27  2021      9   27         1.5   50.98   40.68    44.80     0.2   \n2021-09-28  2021      9   28         1.9   43.77   39.65    41.71     0.2   \n2021-09-29  2021      9   29         0.0   50.98   38.62    44.80     0.2   \n2021-09-30  2021      9   30         1.6   52.01   40.68    46.86     0.2   \n\n              Tmean_C     Tmin_C     Tmax_C    SWE_m   datetime  water_year  \\\n1995-08-30  11.688889   9.400000  18.555556  0.00000 1995-08-30        1995   \n1995-08-31  16.266667   9.400000  22.561111  0.00000 1995-08-31        1995   \n1995-09-01  19.700000  14.550000  25.994444  0.00000 1995-09-01        1995   \n1995-09-02  20.272222  14.550000  28.283333  0.00000 1995-09-02        1995   \n1995-09-03  16.838889  10.544444  27.138889  0.00000 1995-09-03        1995   \n...               ...        ...        ...      ...        ...         ...   \n2021-09-26  10.544444   6.538889  13.405556  0.00254 2021-09-26        2021   \n2021-09-27   7.111111   4.822222  10.544444  0.00508 2021-09-27        2021   \n2021-09-28   5.394444   4.250000   6.538889  0.00508 2021-09-28        2021   \n2021-09-29   7.111111   3.677778  10.544444  0.00508 2021-09-29        2021   \n2021-09-30   8.255556   4.822222  11.116667  0.00508 2021-09-30        2021   \n\n           water_year_str  \n1995-08-30           1995  \n1995-08-31           1995  \n1995-09-01           1995  \n1995-09-02           1995  \n1995-09-03           1995  \n...                   ...  \n2021-09-26           2021  \n2021-09-27           2021  \n2021-09-28           2021  \n2021-09-29           2021  \n2021-09-30           2021  \n\n[9529 rows x 15 columns]",
      "text/html": "<div>\n<style scoped>\n    .dataframe tbody tr th:only-of-type {\n        vertical-align: middle;\n    }\n\n    .dataframe tbody tr th {\n        vertical-align: top;\n    }\n\n    .dataframe thead th {\n        text-align: right;\n    }\n</style>\n<table border=\"1\" class=\"dataframe\">\n  <thead>\n    <tr style=\"text-align: right;\">\n      <th></th>\n      <th>year</th>\n      <th>month</th>\n      <th>day</th>\n      <th>daily_P_in</th>\n      <th>Tmax_F</th>\n      <th>Tmin_F</th>\n      <th>Tmean_F</th>\n      <th>SWE_in</th>\n      <th>Tmean_C</th>\n      <th>Tmin_C</th>\n      <th>Tmax_C</th>\n      <th>SWE_m</th>\n      <th>datetime</th>\n      <th>water_year</th>\n      <th>water_year_str</th>\n    </tr>\n  </thead>\n  <tbody>\n    <tr>\n      <th>1995-08-30</th>\n      <td>1995</td>\n      <td>8</td>\n      <td>30</td>\n      <td>NaN</td>\n      <td>65.40</td>\n      <td>48.92</td>\n      <td>53.04</td>\n      <td>0.0</td>\n      <td>11.688889</td>\n      <td>9.400000</td>\n      <td>18.555556</td>\n      <td>0.00000</td>\n      <td>1995-08-30</td>\n      <td>1995</td>\n      <td>1995</td>\n    </tr>\n    <tr>\n      <th>1995-08-31</th>\n      <td>1995</td>\n      <td>8</td>\n      <td>31</td>\n      <td>NaN</td>\n      <td>72.61</td>\n      <td>48.92</td>\n      <td>61.28</td>\n      <td>0.0</td>\n      <td>16.266667</td>\n      <td>9.400000</td>\n      <td>22.561111</td>\n      <td>0.00000</td>\n      <td>1995-08-31</td>\n      <td>1995</td>\n      <td>1995</td>\n    </tr>\n    <tr>\n      <th>1995-09-01</th>\n      <td>1995</td>\n      <td>9</td>\n      <td>1</td>\n      <td>NaN</td>\n      <td>78.79</td>\n      <td>58.19</td>\n      <td>67.46</td>\n      <td>0.0</td>\n      <td>19.700000</td>\n      <td>14.550000</td>\n      <td>25.994444</td>\n      <td>0.00000</td>\n      <td>1995-09-01</td>\n      <td>1995</td>\n      <td>1995</td>\n    </tr>\n    <tr>\n      <th>1995-09-02</th>\n      <td>1995</td>\n      <td>9</td>\n      <td>2</td>\n      <td>NaN</td>\n      <td>82.91</td>\n      <td>58.19</td>\n      <td>68.49</td>\n      <td>0.0</td>\n      <td>20.272222</td>\n      <td>14.550000</td>\n      <td>28.283333</td>\n      <td>0.00000</td>\n      <td>1995-09-02</td>\n      <td>1995</td>\n      <td>1995</td>\n    </tr>\n    <tr>\n      <th>1995-09-03</th>\n      <td>1995</td>\n      <td>9</td>\n      <td>3</td>\n      <td>NaN</td>\n      <td>80.85</td>\n      <td>50.98</td>\n      <td>62.31</td>\n      <td>0.0</td>\n      <td>16.838889</td>\n      <td>10.544444</td>\n      <td>27.138889</td>\n      <td>0.00000</td>\n      <td>1995-09-03</td>\n      <td>1995</td>\n      <td>1995</td>\n    </tr>\n    <tr>\n      <th>...</th>\n      <td>...</td>\n      <td>...</td>\n      <td>...</td>\n      <td>...</td>\n      <td>...</td>\n      <td>...</td>\n      <td>...</td>\n      <td>...</td>\n      <td>...</td>\n      <td>...</td>\n      <td>...</td>\n      <td>...</td>\n      <td>...</td>\n      <td>...</td>\n      <td>...</td>\n    </tr>\n    <tr>\n      <th>2021-09-26</th>\n      <td>2021</td>\n      <td>9</td>\n      <td>26</td>\n      <td>0.3</td>\n      <td>56.13</td>\n      <td>43.77</td>\n      <td>50.98</td>\n      <td>0.1</td>\n      <td>10.544444</td>\n      <td>6.538889</td>\n      <td>13.405556</td>\n      <td>0.00254</td>\n      <td>2021-09-26</td>\n      <td>2021</td>\n      <td>2021</td>\n    </tr>\n    <tr>\n      <th>2021-09-27</th>\n      <td>2021</td>\n      <td>9</td>\n      <td>27</td>\n      <td>1.5</td>\n      <td>50.98</td>\n      <td>40.68</td>\n      <td>44.80</td>\n      <td>0.2</td>\n      <td>7.111111</td>\n      <td>4.822222</td>\n      <td>10.544444</td>\n      <td>0.00508</td>\n      <td>2021-09-27</td>\n      <td>2021</td>\n      <td>2021</td>\n    </tr>\n    <tr>\n      <th>2021-09-28</th>\n      <td>2021</td>\n      <td>9</td>\n      <td>28</td>\n      <td>1.9</td>\n      <td>43.77</td>\n      <td>39.65</td>\n      <td>41.71</td>\n      <td>0.2</td>\n      <td>5.394444</td>\n      <td>4.250000</td>\n      <td>6.538889</td>\n      <td>0.00508</td>\n      <td>2021-09-28</td>\n      <td>2021</td>\n      <td>2021</td>\n    </tr>\n    <tr>\n      <th>2021-09-29</th>\n      <td>2021</td>\n      <td>9</td>\n      <td>29</td>\n      <td>0.0</td>\n      <td>50.98</td>\n      <td>38.62</td>\n      <td>44.80</td>\n      <td>0.2</td>\n      <td>7.111111</td>\n      <td>3.677778</td>\n      <td>10.544444</td>\n      <td>0.00508</td>\n      <td>2021-09-29</td>\n      <td>2021</td>\n      <td>2021</td>\n    </tr>\n    <tr>\n      <th>2021-09-30</th>\n      <td>2021</td>\n      <td>9</td>\n      <td>30</td>\n      <td>1.6</td>\n      <td>52.01</td>\n      <td>40.68</td>\n      <td>46.86</td>\n      <td>0.2</td>\n      <td>8.255556</td>\n      <td>4.822222</td>\n      <td>11.116667</td>\n      <td>0.00508</td>\n      <td>2021-09-30</td>\n      <td>2021</td>\n      <td>2021</td>\n    </tr>\n  </tbody>\n</table>\n<p>9529 rows × 15 columns</p>\n</div>"
     },
     "execution_count": 101,
     "metadata": {},
     "output_type": "execute_result"
    }
   ],
   "source": [
    "df_snotel_Skookum"
   ],
   "metadata": {
    "collapsed": false,
    "ExecuteTime": {
     "end_time": "2023-10-29T18:28:12.321430Z",
     "start_time": "2023-10-29T18:28:12.318114Z"
    }
   }
  },
  {
   "cell_type": "markdown",
   "source": [],
   "metadata": {
    "collapsed": false
   }
  },
  {
   "cell_type": "code",
   "execution_count": 104,
   "outputs": [
    {
     "data": {
      "text/plain": "numpy.datetime64('2008-04-29T00:00:00.000000000')"
     },
     "execution_count": 104,
     "metadata": {},
     "output_type": "execute_result"
    }
   ],
   "source": [
    "def date_of_peak(df_snotel):\n",
    "    date_of_peak = df_snotel.index.values[df_snotel_Skookum.SWE_m.argmax()]\n",
    "    return date_of_peak\n"
   ],
   "metadata": {
    "collapsed": false,
    "ExecuteTime": {
     "end_time": "2023-10-29T23:49:53.053774Z",
     "start_time": "2023-10-29T23:49:53.042499Z"
    }
   }
  },
  {
   "cell_type": "code",
   "execution_count": null,
   "outputs": [],
   "source": [],
   "metadata": {
    "collapsed": false
   }
  },
  {
   "cell_type": "code",
   "execution_count": null,
   "outputs": [],
   "source": [
    "date_of_peak = df_snotel_Skookum['time'].values[swe.argmax()]\n",
    "end_date = swe['time'].values[-1]\n",
    "sub_swe = swe.sel(time=slice(date_of_peak, end_date))\n",
    "has_no_swe = sub_swe == 0\n",
    "only_no_swe = np.argwhere(has_no_swe.values)\n",
    "return sub_swe['time'].values[only_no_swe[0][0]]"
   ],
   "metadata": {
    "collapsed": false
   }
  },
  {
   "cell_type": "code",
   "execution_count": 97,
   "outputs": [],
   "source": [
    "def snow_disappearance_date(df_snotel):\n",
    "    try:\n",
    "        date_of_peak = swe['time'].values[swe.argmax()]\n",
    "        end_date = swe['time'].values[-1]\n",
    "        sub_swe = swe.sel(time=slice(date_of_peak, end_date))\n",
    "        has_no_swe = sub_swe == 0\n",
    "        only_no_swe = np.argwhere(has_no_swe.values)\n",
    "        return sub_swe['time'].values[only_no_swe[0][0]]\n",
    "    except:\n",
    "        return np.datetime64('NaT')"
   ],
   "metadata": {
    "collapsed": false,
    "ExecuteTime": {
     "end_time": "2023-10-29T18:14:12.815016Z",
     "start_time": "2023-10-29T18:14:12.785361Z"
    }
   }
  },
  {
   "cell_type": "code",
   "execution_count": 13,
   "outputs": [
    {
     "data": {
      "text/plain": "            year  month  day  daily_P_in  Tmax_F  Tmin_F  Tmean_F  SWE_in  \\\n2011-10-01  2011     10    1         0.2   47.89   42.74    44.80     0.0   \n2011-10-02  2011     10    2         0.3   55.10   42.74    46.86     0.0   \n2011-10-03  2011     10    3         0.3   47.89   42.74    44.80     0.0   \n2011-10-04  2011     10    4         0.2   52.01   40.68    44.80     0.0   \n2011-10-05  2011     10    5         0.8   46.86   38.62    40.68     0.0   \n...          ...    ...  ...         ...     ...     ...      ...     ...   \n2012-09-26  2012      9   26         0.0   60.25   42.74    50.98     0.0   \n2012-09-27  2012      9   27         0.0   66.43   49.95    57.16     0.0   \n2012-09-28  2012      9   28         0.0   63.34   50.98    57.16     0.0   \n2012-09-29  2012      9   29         0.0   53.04   42.74    48.92     0.0   \n2012-09-30  2012      9   30         0.0   57.16   42.74    48.92     0.0   \n\n              Tmean_C     Tmin_C     Tmax_C  SWE_m   datetime  water_year  \\\n2011-10-01   7.111111   5.966667   8.827778    0.0 2011-10-01        2012   \n2011-10-02   8.255556   5.966667  12.833333    0.0 2011-10-02        2012   \n2011-10-03   7.111111   5.966667   8.827778    0.0 2011-10-03        2012   \n2011-10-04   7.111111   4.822222  11.116667    0.0 2011-10-04        2012   \n2011-10-05   4.822222   3.677778   8.255556    0.0 2011-10-05        2012   \n...               ...        ...        ...    ...        ...         ...   \n2012-09-26  10.544444   5.966667  15.694444    0.0 2012-09-26        2012   \n2012-09-27  13.977778   9.972222  19.127778    0.0 2012-09-27        2012   \n2012-09-28  13.977778  10.544444  17.411111    0.0 2012-09-28        2012   \n2012-09-29   9.400000   5.966667  11.688889    0.0 2012-09-29        2012   \n2012-09-30   9.400000   5.966667  13.977778    0.0 2012-09-30        2012   \n\n           water_year_str  \n2011-10-01           2012  \n2011-10-02           2012  \n2011-10-03           2012  \n2011-10-04           2012  \n2011-10-05           2012  \n...                   ...  \n2012-09-26           2012  \n2012-09-27           2012  \n2012-09-28           2012  \n2012-09-29           2012  \n2012-09-30           2012  \n\n[366 rows x 15 columns]",
      "text/html": "<div>\n<style scoped>\n    .dataframe tbody tr th:only-of-type {\n        vertical-align: middle;\n    }\n\n    .dataframe tbody tr th {\n        vertical-align: top;\n    }\n\n    .dataframe thead th {\n        text-align: right;\n    }\n</style>\n<table border=\"1\" class=\"dataframe\">\n  <thead>\n    <tr style=\"text-align: right;\">\n      <th></th>\n      <th>year</th>\n      <th>month</th>\n      <th>day</th>\n      <th>daily_P_in</th>\n      <th>Tmax_F</th>\n      <th>Tmin_F</th>\n      <th>Tmean_F</th>\n      <th>SWE_in</th>\n      <th>Tmean_C</th>\n      <th>Tmin_C</th>\n      <th>Tmax_C</th>\n      <th>SWE_m</th>\n      <th>datetime</th>\n      <th>water_year</th>\n      <th>water_year_str</th>\n    </tr>\n  </thead>\n  <tbody>\n    <tr>\n      <th>2011-10-01</th>\n      <td>2011</td>\n      <td>10</td>\n      <td>1</td>\n      <td>0.2</td>\n      <td>47.89</td>\n      <td>42.74</td>\n      <td>44.80</td>\n      <td>0.0</td>\n      <td>7.111111</td>\n      <td>5.966667</td>\n      <td>8.827778</td>\n      <td>0.0</td>\n      <td>2011-10-01</td>\n      <td>2012</td>\n      <td>2012</td>\n    </tr>\n    <tr>\n      <th>2011-10-02</th>\n      <td>2011</td>\n      <td>10</td>\n      <td>2</td>\n      <td>0.3</td>\n      <td>55.10</td>\n      <td>42.74</td>\n      <td>46.86</td>\n      <td>0.0</td>\n      <td>8.255556</td>\n      <td>5.966667</td>\n      <td>12.833333</td>\n      <td>0.0</td>\n      <td>2011-10-02</td>\n      <td>2012</td>\n      <td>2012</td>\n    </tr>\n    <tr>\n      <th>2011-10-03</th>\n      <td>2011</td>\n      <td>10</td>\n      <td>3</td>\n      <td>0.3</td>\n      <td>47.89</td>\n      <td>42.74</td>\n      <td>44.80</td>\n      <td>0.0</td>\n      <td>7.111111</td>\n      <td>5.966667</td>\n      <td>8.827778</td>\n      <td>0.0</td>\n      <td>2011-10-03</td>\n      <td>2012</td>\n      <td>2012</td>\n    </tr>\n    <tr>\n      <th>2011-10-04</th>\n      <td>2011</td>\n      <td>10</td>\n      <td>4</td>\n      <td>0.2</td>\n      <td>52.01</td>\n      <td>40.68</td>\n      <td>44.80</td>\n      <td>0.0</td>\n      <td>7.111111</td>\n      <td>4.822222</td>\n      <td>11.116667</td>\n      <td>0.0</td>\n      <td>2011-10-04</td>\n      <td>2012</td>\n      <td>2012</td>\n    </tr>\n    <tr>\n      <th>2011-10-05</th>\n      <td>2011</td>\n      <td>10</td>\n      <td>5</td>\n      <td>0.8</td>\n      <td>46.86</td>\n      <td>38.62</td>\n      <td>40.68</td>\n      <td>0.0</td>\n      <td>4.822222</td>\n      <td>3.677778</td>\n      <td>8.255556</td>\n      <td>0.0</td>\n      <td>2011-10-05</td>\n      <td>2012</td>\n      <td>2012</td>\n    </tr>\n    <tr>\n      <th>...</th>\n      <td>...</td>\n      <td>...</td>\n      <td>...</td>\n      <td>...</td>\n      <td>...</td>\n      <td>...</td>\n      <td>...</td>\n      <td>...</td>\n      <td>...</td>\n      <td>...</td>\n      <td>...</td>\n      <td>...</td>\n      <td>...</td>\n      <td>...</td>\n      <td>...</td>\n    </tr>\n    <tr>\n      <th>2012-09-26</th>\n      <td>2012</td>\n      <td>9</td>\n      <td>26</td>\n      <td>0.0</td>\n      <td>60.25</td>\n      <td>42.74</td>\n      <td>50.98</td>\n      <td>0.0</td>\n      <td>10.544444</td>\n      <td>5.966667</td>\n      <td>15.694444</td>\n      <td>0.0</td>\n      <td>2012-09-26</td>\n      <td>2012</td>\n      <td>2012</td>\n    </tr>\n    <tr>\n      <th>2012-09-27</th>\n      <td>2012</td>\n      <td>9</td>\n      <td>27</td>\n      <td>0.0</td>\n      <td>66.43</td>\n      <td>49.95</td>\n      <td>57.16</td>\n      <td>0.0</td>\n      <td>13.977778</td>\n      <td>9.972222</td>\n      <td>19.127778</td>\n      <td>0.0</td>\n      <td>2012-09-27</td>\n      <td>2012</td>\n      <td>2012</td>\n    </tr>\n    <tr>\n      <th>2012-09-28</th>\n      <td>2012</td>\n      <td>9</td>\n      <td>28</td>\n      <td>0.0</td>\n      <td>63.34</td>\n      <td>50.98</td>\n      <td>57.16</td>\n      <td>0.0</td>\n      <td>13.977778</td>\n      <td>10.544444</td>\n      <td>17.411111</td>\n      <td>0.0</td>\n      <td>2012-09-28</td>\n      <td>2012</td>\n      <td>2012</td>\n    </tr>\n    <tr>\n      <th>2012-09-29</th>\n      <td>2012</td>\n      <td>9</td>\n      <td>29</td>\n      <td>0.0</td>\n      <td>53.04</td>\n      <td>42.74</td>\n      <td>48.92</td>\n      <td>0.0</td>\n      <td>9.400000</td>\n      <td>5.966667</td>\n      <td>11.688889</td>\n      <td>0.0</td>\n      <td>2012-09-29</td>\n      <td>2012</td>\n      <td>2012</td>\n    </tr>\n    <tr>\n      <th>2012-09-30</th>\n      <td>2012</td>\n      <td>9</td>\n      <td>30</td>\n      <td>0.0</td>\n      <td>57.16</td>\n      <td>42.74</td>\n      <td>48.92</td>\n      <td>0.0</td>\n      <td>9.400000</td>\n      <td>5.966667</td>\n      <td>13.977778</td>\n      <td>0.0</td>\n      <td>2012-09-30</td>\n      <td>2012</td>\n      <td>2012</td>\n    </tr>\n  </tbody>\n</table>\n<p>366 rows × 15 columns</p>\n</div>"
     },
     "execution_count": 13,
     "metadata": {},
     "output_type": "execute_result"
    }
   ],
   "source": [
    "model_2012"
   ],
   "metadata": {
    "collapsed": false,
    "ExecuteTime": {
     "end_time": "2023-10-28T20:32:59.748331Z",
     "start_time": "2023-10-28T20:32:59.741814Z"
    }
   }
  },
  {
   "cell_type": "code",
   "execution_count": null,
   "outputs": [],
   "source": [],
   "metadata": {
    "collapsed": false
   }
  }
 ],
 "metadata": {
  "kernelspec": {
   "display_name": "Python 3",
   "language": "python",
   "name": "python3"
  },
  "language_info": {
   "codemirror_mode": {
    "name": "ipython",
    "version": 2
   },
   "file_extension": ".py",
   "mimetype": "text/x-python",
   "name": "python",
   "nbconvert_exporter": "python",
   "pygments_lexer": "ipython2",
   "version": "2.7.6"
  }
 },
 "nbformat": 4,
 "nbformat_minor": 0
}
