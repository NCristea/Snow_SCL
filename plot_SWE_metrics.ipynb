{
 "cells": [
  {
   "cell_type": "code",
   "execution_count": 4,
   "metadata": {
    "collapsed": true,
    "pycharm": {
     "name": "#%%\n"
    }
   },
   "outputs": [],
   "source": [
    "import pandas as pd\n",
    "import matplotlib.pyplot as plt\n",
    "import seaborn as sns"
   ]
  },
  {
   "cell_type": "code",
   "execution_count": 5,
   "outputs": [],
   "source": [
    "import os\n",
    "#set path for root directory\n",
    "ROOT_DIR = os.path.abspath(os.curdir)\n"
   ],
   "metadata": {
    "collapsed": false,
    "pycharm": {
     "name": "#%%\n"
    }
   }
  },
  {
   "cell_type": "code",
   "execution_count": 6,
   "outputs": [],
   "source": [
    "#get paths for data files\n",
    "path_swe_metrics = ROOT_DIR + '/Data/Raw/snow_metrics1.csv'\n"
   ],
   "metadata": {
    "collapsed": false,
    "pycharm": {
     "name": "#%%\n"
    }
   }
  },
  {
   "cell_type": "code",
   "execution_count": 7,
   "outputs": [],
   "source": [
    "swe_metrics = pd.read_csv(path_swe_metrics)"
   ],
   "metadata": {
    "collapsed": false,
    "pycharm": {
     "name": "#%%\n"
    }
   }
  },
  {
   "cell_type": "code",
   "execution_count": 8,
   "outputs": [
    {
     "data": {
      "text/plain": "      ENSO  year  maxswe max_swe_date  SWE_at_SP_melt SP_melt_start_date  \\\n0   normal  1997    46.8       14-Apr            41.9              2-May   \n1     warm  1998    27.4       11-Mar            23.6             15-Apr   \n2     cold  1999    53.2       10-Apr            46.0              6-May   \n3     cold  2000    42.0       31-Mar            42.0             31-Mar   \n4     cold  2001    21.3       14-Apr            21.3             14-Apr   \n5   normal  2002    59.4       30-Mar            50.9              9-May   \n6     warm  2003    15.6       31-Dec            11.0              8-Apr   \n7   normal  2004    36.0        7-Mar            30.7              3-Apr   \n8   normal  2005     8.1       13-Dec             5.6             18-Apr   \n9   normal  2006    40.5       18-Apr            40.5             18-Apr   \n10    warm  2007    32.7        1-Mar            22.5             19-Apr   \n11    cold  2008    85.7       29-Apr            82.5             14-May   \n12    cold  2009    64.3       18-Apr            61.3              2-May   \n13       w  2010    11.7       10-Apr             9.4              6-May   \n14    cold  2011    45.8        4-May            45.1              8-May   \n15    cold  2012    60.5        9-Apr            57.2             20-Apr   \n16  normal  2013    55.4       29-Mar            53.5             20-Apr   \n17  normal  2014    35.9        6-Apr            31.0             24-Apr   \n18  normal  2015    14.5       31-Dec             4.0             16-Jan   \n19    warn  2016    24.9       30-Dec            21.8             25-Mar   \n20  normal  2017    43.0       10-Mar            41.7             12-Apr   \n21    cold  2018    50.5       23-Apr            50.5             23-Apr   \n\n   SP_melt_end_date  melt rate  melt duration  n_mwme  ...  min_discharge  \\\n0             1-Jun       1.56             30       2  ...           2.20   \n1             5-May       1.37             20       3  ...           2.20   \n2            17-Jun       1.27             42       2  ...           3.10   \n3            28-May       0.72             58       1  ...           4.70   \n4            19-May       0.61             35       5  ...           4.50   \n5            18-Jun       1.49             40       5  ...           4.20   \n6            13-May       0.45             35       6  ...           3.10   \n7             3-May       1.20             30       5  ...           3.90   \n8            27-Apr       0.90              9       7  ...           2.96   \n9            21-May       1.23             33       3  ...           2.53   \n10           12-May       1.42             23       4  ...           6.26   \n11            4-Jul       1.68             51       1  ...           7.32   \n12            8-Jun       1.74             37       1  ...           3.19   \n13           18-May       0.98             12       8  ...           4.64   \n14           22-Jun       1.02             45       1  ...           5.46   \n15           13-Jun       1.12             54       2  ...           3.16   \n16            4-Jun       1.23             45       6  ...           2.86   \n17           23-May       1.24             29       3  ...           3.94   \n18           29-Jan       1.12             13       3  ...           3.04   \n19           24-Apr       0.83             30       5  ...           4.18   \n20            3-Jun       0.83             52       5  ...           2.52   \n21           15-Jun       0.95             53       3  ...           3.79   \n\n   max_discharge_date  max_discharge zero_SWE_date  max_SWE_date  \\\n0        3/19/97 0:00            347   6/1/97 0:00  4/14/97 0:00   \n1       12/16/97 0:00            359   5/5/98 0:00  3/11/98 0:00   \n2       12/29/98 0:00           1020  6/17/99 0:00  4/10/99 0:00   \n3       12/15/99 0:00           1000  5/29/00 0:00  3/29/00 0:00   \n4         1/5/01 0:00            275  5/19/01 0:00  4/14/01 0:00   \n5        2/22/02 0:00            806  6/18/02 0:00  3/30/02 0:00   \n6        1/26/03 0:00            806  5/13/03 0:00   4/8/03 0:00   \n7       11/18/03 0:00           1220   5/3/04 0:00   3/7/04 0:00   \n8        1/18/05 0:00           1500   5/1/05 0:00  4/16/05 0:00   \n9       12/24/05 0:00            607  5/21/06 0:00  4/18/06 0:00   \n10       11/6/06 0:00           1350  5/12/07 0:00   3/1/07 0:00   \n11       12/3/07 0:00            607   7/4/08 0:00  4/29/08 0:00   \n12        1/7/09 0:00           1240   6/8/09 0:00  4/18/09 0:00   \n13      11/17/09 0:00            269  5/18/10 0:00  4/10/10 0:00   \n14      12/12/10 0:00           1160  6/22/11 0:00   5/4/11 0:00   \n15      12/28/11 0:00            654  6/13/12 0:00   4/8/12 0:00   \n16        4/5/13 0:00            524   6/4/13 0:00  3/29/13 0:00   \n17        3/9/14 0:00            753  5/23/14 0:00   4/6/14 0:00   \n18        1/5/15 0:00           1140   5/1/15 0:00   1/5/15 0:00   \n19      11/13/15 0:00           1120   5/1/16 0:00  3/29/16 0:00   \n20       3/15/17 0:00            574   6/3/17 0:00  3/10/17 0:00   \n21      11/23/17 0:00            754  5/29/18 0:00  4/23/18 0:00   \n\n   mindate_meanwtemp minval_meanwtemp maxdate_meanwtemp  maxval_meanwtemp  \\\n0      12/26/96 0:00              0.1      8/14/97 0:00              14.1   \n1       1/11/98 0:00             -0.2      7/28/98 0:00              16.0   \n2      12/20/98 0:00              0.0       8/5/99 0:00              12.6   \n3       1/30/00 0:00              0.7       8/5/00 0:00              14.1   \n4       2/16/01 0:00              0.1      8/13/01 0:00              14.1   \n5       3/20/02 0:00              0.1      8/29/02 0:00              12.9   \n6        3/7/03 0:00              1.1      7/31/03 0:00              15.8   \n7        1/5/04 0:00              0.1      7/24/04 0:00              15.7   \n8       1/15/05 0:00              0.0      8/15/05 0:00              14.2   \n9       2/17/06 0:00              0.0      7/23/06 0:00              15.1   \n10     12/29/06 0:00              1.2      7/11/07 0:00              13.7   \n11      12/2/07 0:00              0.0      8/17/08 0:00              13.0   \n12     12/15/08 0:00              0.0      7/30/09 0:00              15.6   \n13      12/8/09 0:00              0.0      8/16/10 0:00              14.6   \n14      1/12/11 0:00              0.0      9/11/11 0:00              12.1   \n15      1/17/12 0:00              0.0      8/17/12 0:00              14.2   \n16       1/3/13 0:00              0.4      8/10/13 0:00              14.1   \n17      12/7/13 0:00              0.0      8/12/14 0:00              14.9   \n18     12/30/14 0:00              1.5       7/3/15 0:00              16.9   \n19     12/24/15 0:00              0.6      8/19/16 0:00              14.5   \n20       1/7/17 0:00              0.2       8/9/17 0:00              15.1   \n21      2/25/18 0:00              0.4               NaN               NaN   \n\n     TDJF  \n0  -0.180  \n1  -1.380  \n2   0.055  \n3   0.110  \n4  -0.850  \n5   1.270  \n6   0.280  \n7   2.800  \n8   1.390  \n9   1.420  \n10 -0.230  \n11  0.860  \n12  2.040  \n13  0.150  \n14  0.840  \n15  0.360  \n16  0.720  \n17  3.750  \n18  1.910  \n19 -1.050  \n20  1.240  \n21  0.260  \n\n[22 rows x 22 columns]",
      "text/html": "<div>\n<style scoped>\n    .dataframe tbody tr th:only-of-type {\n        vertical-align: middle;\n    }\n\n    .dataframe tbody tr th {\n        vertical-align: top;\n    }\n\n    .dataframe thead th {\n        text-align: right;\n    }\n</style>\n<table border=\"1\" class=\"dataframe\">\n  <thead>\n    <tr style=\"text-align: right;\">\n      <th></th>\n      <th>ENSO</th>\n      <th>year</th>\n      <th>maxswe</th>\n      <th>max_swe_date</th>\n      <th>SWE_at_SP_melt</th>\n      <th>SP_melt_start_date</th>\n      <th>SP_melt_end_date</th>\n      <th>melt rate</th>\n      <th>melt duration</th>\n      <th>n_mwme</th>\n      <th>...</th>\n      <th>min_discharge</th>\n      <th>max_discharge_date</th>\n      <th>max_discharge</th>\n      <th>zero_SWE_date</th>\n      <th>max_SWE_date</th>\n      <th>mindate_meanwtemp</th>\n      <th>minval_meanwtemp</th>\n      <th>maxdate_meanwtemp</th>\n      <th>maxval_meanwtemp</th>\n      <th>TDJF</th>\n    </tr>\n  </thead>\n  <tbody>\n    <tr>\n      <th>0</th>\n      <td>normal</td>\n      <td>1997</td>\n      <td>46.8</td>\n      <td>14-Apr</td>\n      <td>41.9</td>\n      <td>2-May</td>\n      <td>1-Jun</td>\n      <td>1.56</td>\n      <td>30</td>\n      <td>2</td>\n      <td>...</td>\n      <td>2.20</td>\n      <td>3/19/97 0:00</td>\n      <td>347</td>\n      <td>6/1/97 0:00</td>\n      <td>4/14/97 0:00</td>\n      <td>12/26/96 0:00</td>\n      <td>0.1</td>\n      <td>8/14/97 0:00</td>\n      <td>14.1</td>\n      <td>-0.180</td>\n    </tr>\n    <tr>\n      <th>1</th>\n      <td>warm</td>\n      <td>1998</td>\n      <td>27.4</td>\n      <td>11-Mar</td>\n      <td>23.6</td>\n      <td>15-Apr</td>\n      <td>5-May</td>\n      <td>1.37</td>\n      <td>20</td>\n      <td>3</td>\n      <td>...</td>\n      <td>2.20</td>\n      <td>12/16/97 0:00</td>\n      <td>359</td>\n      <td>5/5/98 0:00</td>\n      <td>3/11/98 0:00</td>\n      <td>1/11/98 0:00</td>\n      <td>-0.2</td>\n      <td>7/28/98 0:00</td>\n      <td>16.0</td>\n      <td>-1.380</td>\n    </tr>\n    <tr>\n      <th>2</th>\n      <td>cold</td>\n      <td>1999</td>\n      <td>53.2</td>\n      <td>10-Apr</td>\n      <td>46.0</td>\n      <td>6-May</td>\n      <td>17-Jun</td>\n      <td>1.27</td>\n      <td>42</td>\n      <td>2</td>\n      <td>...</td>\n      <td>3.10</td>\n      <td>12/29/98 0:00</td>\n      <td>1020</td>\n      <td>6/17/99 0:00</td>\n      <td>4/10/99 0:00</td>\n      <td>12/20/98 0:00</td>\n      <td>0.0</td>\n      <td>8/5/99 0:00</td>\n      <td>12.6</td>\n      <td>0.055</td>\n    </tr>\n    <tr>\n      <th>3</th>\n      <td>cold</td>\n      <td>2000</td>\n      <td>42.0</td>\n      <td>31-Mar</td>\n      <td>42.0</td>\n      <td>31-Mar</td>\n      <td>28-May</td>\n      <td>0.72</td>\n      <td>58</td>\n      <td>1</td>\n      <td>...</td>\n      <td>4.70</td>\n      <td>12/15/99 0:00</td>\n      <td>1000</td>\n      <td>5/29/00 0:00</td>\n      <td>3/29/00 0:00</td>\n      <td>1/30/00 0:00</td>\n      <td>0.7</td>\n      <td>8/5/00 0:00</td>\n      <td>14.1</td>\n      <td>0.110</td>\n    </tr>\n    <tr>\n      <th>4</th>\n      <td>cold</td>\n      <td>2001</td>\n      <td>21.3</td>\n      <td>14-Apr</td>\n      <td>21.3</td>\n      <td>14-Apr</td>\n      <td>19-May</td>\n      <td>0.61</td>\n      <td>35</td>\n      <td>5</td>\n      <td>...</td>\n      <td>4.50</td>\n      <td>1/5/01 0:00</td>\n      <td>275</td>\n      <td>5/19/01 0:00</td>\n      <td>4/14/01 0:00</td>\n      <td>2/16/01 0:00</td>\n      <td>0.1</td>\n      <td>8/13/01 0:00</td>\n      <td>14.1</td>\n      <td>-0.850</td>\n    </tr>\n    <tr>\n      <th>5</th>\n      <td>normal</td>\n      <td>2002</td>\n      <td>59.4</td>\n      <td>30-Mar</td>\n      <td>50.9</td>\n      <td>9-May</td>\n      <td>18-Jun</td>\n      <td>1.49</td>\n      <td>40</td>\n      <td>5</td>\n      <td>...</td>\n      <td>4.20</td>\n      <td>2/22/02 0:00</td>\n      <td>806</td>\n      <td>6/18/02 0:00</td>\n      <td>3/30/02 0:00</td>\n      <td>3/20/02 0:00</td>\n      <td>0.1</td>\n      <td>8/29/02 0:00</td>\n      <td>12.9</td>\n      <td>1.270</td>\n    </tr>\n    <tr>\n      <th>6</th>\n      <td>warm</td>\n      <td>2003</td>\n      <td>15.6</td>\n      <td>31-Dec</td>\n      <td>11.0</td>\n      <td>8-Apr</td>\n      <td>13-May</td>\n      <td>0.45</td>\n      <td>35</td>\n      <td>6</td>\n      <td>...</td>\n      <td>3.10</td>\n      <td>1/26/03 0:00</td>\n      <td>806</td>\n      <td>5/13/03 0:00</td>\n      <td>4/8/03 0:00</td>\n      <td>3/7/03 0:00</td>\n      <td>1.1</td>\n      <td>7/31/03 0:00</td>\n      <td>15.8</td>\n      <td>0.280</td>\n    </tr>\n    <tr>\n      <th>7</th>\n      <td>normal</td>\n      <td>2004</td>\n      <td>36.0</td>\n      <td>7-Mar</td>\n      <td>30.7</td>\n      <td>3-Apr</td>\n      <td>3-May</td>\n      <td>1.20</td>\n      <td>30</td>\n      <td>5</td>\n      <td>...</td>\n      <td>3.90</td>\n      <td>11/18/03 0:00</td>\n      <td>1220</td>\n      <td>5/3/04 0:00</td>\n      <td>3/7/04 0:00</td>\n      <td>1/5/04 0:00</td>\n      <td>0.1</td>\n      <td>7/24/04 0:00</td>\n      <td>15.7</td>\n      <td>2.800</td>\n    </tr>\n    <tr>\n      <th>8</th>\n      <td>normal</td>\n      <td>2005</td>\n      <td>8.1</td>\n      <td>13-Dec</td>\n      <td>5.6</td>\n      <td>18-Apr</td>\n      <td>27-Apr</td>\n      <td>0.90</td>\n      <td>9</td>\n      <td>7</td>\n      <td>...</td>\n      <td>2.96</td>\n      <td>1/18/05 0:00</td>\n      <td>1500</td>\n      <td>5/1/05 0:00</td>\n      <td>4/16/05 0:00</td>\n      <td>1/15/05 0:00</td>\n      <td>0.0</td>\n      <td>8/15/05 0:00</td>\n      <td>14.2</td>\n      <td>1.390</td>\n    </tr>\n    <tr>\n      <th>9</th>\n      <td>normal</td>\n      <td>2006</td>\n      <td>40.5</td>\n      <td>18-Apr</td>\n      <td>40.5</td>\n      <td>18-Apr</td>\n      <td>21-May</td>\n      <td>1.23</td>\n      <td>33</td>\n      <td>3</td>\n      <td>...</td>\n      <td>2.53</td>\n      <td>12/24/05 0:00</td>\n      <td>607</td>\n      <td>5/21/06 0:00</td>\n      <td>4/18/06 0:00</td>\n      <td>2/17/06 0:00</td>\n      <td>0.0</td>\n      <td>7/23/06 0:00</td>\n      <td>15.1</td>\n      <td>1.420</td>\n    </tr>\n    <tr>\n      <th>10</th>\n      <td>warm</td>\n      <td>2007</td>\n      <td>32.7</td>\n      <td>1-Mar</td>\n      <td>22.5</td>\n      <td>19-Apr</td>\n      <td>12-May</td>\n      <td>1.42</td>\n      <td>23</td>\n      <td>4</td>\n      <td>...</td>\n      <td>6.26</td>\n      <td>11/6/06 0:00</td>\n      <td>1350</td>\n      <td>5/12/07 0:00</td>\n      <td>3/1/07 0:00</td>\n      <td>12/29/06 0:00</td>\n      <td>1.2</td>\n      <td>7/11/07 0:00</td>\n      <td>13.7</td>\n      <td>-0.230</td>\n    </tr>\n    <tr>\n      <th>11</th>\n      <td>cold</td>\n      <td>2008</td>\n      <td>85.7</td>\n      <td>29-Apr</td>\n      <td>82.5</td>\n      <td>14-May</td>\n      <td>4-Jul</td>\n      <td>1.68</td>\n      <td>51</td>\n      <td>1</td>\n      <td>...</td>\n      <td>7.32</td>\n      <td>12/3/07 0:00</td>\n      <td>607</td>\n      <td>7/4/08 0:00</td>\n      <td>4/29/08 0:00</td>\n      <td>12/2/07 0:00</td>\n      <td>0.0</td>\n      <td>8/17/08 0:00</td>\n      <td>13.0</td>\n      <td>0.860</td>\n    </tr>\n    <tr>\n      <th>12</th>\n      <td>cold</td>\n      <td>2009</td>\n      <td>64.3</td>\n      <td>18-Apr</td>\n      <td>61.3</td>\n      <td>2-May</td>\n      <td>8-Jun</td>\n      <td>1.74</td>\n      <td>37</td>\n      <td>1</td>\n      <td>...</td>\n      <td>3.19</td>\n      <td>1/7/09 0:00</td>\n      <td>1240</td>\n      <td>6/8/09 0:00</td>\n      <td>4/18/09 0:00</td>\n      <td>12/15/08 0:00</td>\n      <td>0.0</td>\n      <td>7/30/09 0:00</td>\n      <td>15.6</td>\n      <td>2.040</td>\n    </tr>\n    <tr>\n      <th>13</th>\n      <td>w</td>\n      <td>2010</td>\n      <td>11.7</td>\n      <td>10-Apr</td>\n      <td>9.4</td>\n      <td>6-May</td>\n      <td>18-May</td>\n      <td>0.98</td>\n      <td>12</td>\n      <td>8</td>\n      <td>...</td>\n      <td>4.64</td>\n      <td>11/17/09 0:00</td>\n      <td>269</td>\n      <td>5/18/10 0:00</td>\n      <td>4/10/10 0:00</td>\n      <td>12/8/09 0:00</td>\n      <td>0.0</td>\n      <td>8/16/10 0:00</td>\n      <td>14.6</td>\n      <td>0.150</td>\n    </tr>\n    <tr>\n      <th>14</th>\n      <td>cold</td>\n      <td>2011</td>\n      <td>45.8</td>\n      <td>4-May</td>\n      <td>45.1</td>\n      <td>8-May</td>\n      <td>22-Jun</td>\n      <td>1.02</td>\n      <td>45</td>\n      <td>1</td>\n      <td>...</td>\n      <td>5.46</td>\n      <td>12/12/10 0:00</td>\n      <td>1160</td>\n      <td>6/22/11 0:00</td>\n      <td>5/4/11 0:00</td>\n      <td>1/12/11 0:00</td>\n      <td>0.0</td>\n      <td>9/11/11 0:00</td>\n      <td>12.1</td>\n      <td>0.840</td>\n    </tr>\n    <tr>\n      <th>15</th>\n      <td>cold</td>\n      <td>2012</td>\n      <td>60.5</td>\n      <td>9-Apr</td>\n      <td>57.2</td>\n      <td>20-Apr</td>\n      <td>13-Jun</td>\n      <td>1.12</td>\n      <td>54</td>\n      <td>2</td>\n      <td>...</td>\n      <td>3.16</td>\n      <td>12/28/11 0:00</td>\n      <td>654</td>\n      <td>6/13/12 0:00</td>\n      <td>4/8/12 0:00</td>\n      <td>1/17/12 0:00</td>\n      <td>0.0</td>\n      <td>8/17/12 0:00</td>\n      <td>14.2</td>\n      <td>0.360</td>\n    </tr>\n    <tr>\n      <th>16</th>\n      <td>normal</td>\n      <td>2013</td>\n      <td>55.4</td>\n      <td>29-Mar</td>\n      <td>53.5</td>\n      <td>20-Apr</td>\n      <td>4-Jun</td>\n      <td>1.23</td>\n      <td>45</td>\n      <td>6</td>\n      <td>...</td>\n      <td>2.86</td>\n      <td>4/5/13 0:00</td>\n      <td>524</td>\n      <td>6/4/13 0:00</td>\n      <td>3/29/13 0:00</td>\n      <td>1/3/13 0:00</td>\n      <td>0.4</td>\n      <td>8/10/13 0:00</td>\n      <td>14.1</td>\n      <td>0.720</td>\n    </tr>\n    <tr>\n      <th>17</th>\n      <td>normal</td>\n      <td>2014</td>\n      <td>35.9</td>\n      <td>6-Apr</td>\n      <td>31.0</td>\n      <td>24-Apr</td>\n      <td>23-May</td>\n      <td>1.24</td>\n      <td>29</td>\n      <td>3</td>\n      <td>...</td>\n      <td>3.94</td>\n      <td>3/9/14 0:00</td>\n      <td>753</td>\n      <td>5/23/14 0:00</td>\n      <td>4/6/14 0:00</td>\n      <td>12/7/13 0:00</td>\n      <td>0.0</td>\n      <td>8/12/14 0:00</td>\n      <td>14.9</td>\n      <td>3.750</td>\n    </tr>\n    <tr>\n      <th>18</th>\n      <td>normal</td>\n      <td>2015</td>\n      <td>14.5</td>\n      <td>31-Dec</td>\n      <td>4.0</td>\n      <td>16-Jan</td>\n      <td>29-Jan</td>\n      <td>1.12</td>\n      <td>13</td>\n      <td>3</td>\n      <td>...</td>\n      <td>3.04</td>\n      <td>1/5/15 0:00</td>\n      <td>1140</td>\n      <td>5/1/15 0:00</td>\n      <td>1/5/15 0:00</td>\n      <td>12/30/14 0:00</td>\n      <td>1.5</td>\n      <td>7/3/15 0:00</td>\n      <td>16.9</td>\n      <td>1.910</td>\n    </tr>\n    <tr>\n      <th>19</th>\n      <td>warn</td>\n      <td>2016</td>\n      <td>24.9</td>\n      <td>30-Dec</td>\n      <td>21.8</td>\n      <td>25-Mar</td>\n      <td>24-Apr</td>\n      <td>0.83</td>\n      <td>30</td>\n      <td>5</td>\n      <td>...</td>\n      <td>4.18</td>\n      <td>11/13/15 0:00</td>\n      <td>1120</td>\n      <td>5/1/16 0:00</td>\n      <td>3/29/16 0:00</td>\n      <td>12/24/15 0:00</td>\n      <td>0.6</td>\n      <td>8/19/16 0:00</td>\n      <td>14.5</td>\n      <td>-1.050</td>\n    </tr>\n    <tr>\n      <th>20</th>\n      <td>normal</td>\n      <td>2017</td>\n      <td>43.0</td>\n      <td>10-Mar</td>\n      <td>41.7</td>\n      <td>12-Apr</td>\n      <td>3-Jun</td>\n      <td>0.83</td>\n      <td>52</td>\n      <td>5</td>\n      <td>...</td>\n      <td>2.52</td>\n      <td>3/15/17 0:00</td>\n      <td>574</td>\n      <td>6/3/17 0:00</td>\n      <td>3/10/17 0:00</td>\n      <td>1/7/17 0:00</td>\n      <td>0.2</td>\n      <td>8/9/17 0:00</td>\n      <td>15.1</td>\n      <td>1.240</td>\n    </tr>\n    <tr>\n      <th>21</th>\n      <td>cold</td>\n      <td>2018</td>\n      <td>50.5</td>\n      <td>23-Apr</td>\n      <td>50.5</td>\n      <td>23-Apr</td>\n      <td>15-Jun</td>\n      <td>0.95</td>\n      <td>53</td>\n      <td>3</td>\n      <td>...</td>\n      <td>3.79</td>\n      <td>11/23/17 0:00</td>\n      <td>754</td>\n      <td>5/29/18 0:00</td>\n      <td>4/23/18 0:00</td>\n      <td>2/25/18 0:00</td>\n      <td>0.4</td>\n      <td>NaN</td>\n      <td>NaN</td>\n      <td>0.260</td>\n    </tr>\n  </tbody>\n</table>\n<p>22 rows × 22 columns</p>\n</div>"
     },
     "execution_count": 8,
     "metadata": {},
     "output_type": "execute_result"
    }
   ],
   "source": [
    "swe_metrics"
   ],
   "metadata": {
    "collapsed": false,
    "pycharm": {
     "name": "#%%\n"
    }
   }
  },
  {
   "cell_type": "code",
   "execution_count": null,
   "outputs": [],
   "source": [],
   "metadata": {
    "collapsed": false,
    "pycharm": {
     "name": "#%%\n"
    }
   }
  }
 ],
 "metadata": {
  "kernelspec": {
   "display_name": "Python 3",
   "language": "python",
   "name": "python3"
  },
  "language_info": {
   "codemirror_mode": {
    "name": "ipython",
    "version": 2
   },
   "file_extension": ".py",
   "mimetype": "text/x-python",
   "name": "python",
   "nbconvert_exporter": "python",
   "pygments_lexer": "ipython2",
   "version": "2.7.6"
  }
 },
 "nbformat": 4,
 "nbformat_minor": 0
}