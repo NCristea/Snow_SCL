{
 "cells": [
  {
   "cell_type": "code",
   "execution_count": 16,
   "metadata": {
    "collapsed": true,
    "pycharm": {
     "name": "#%%\n"
    }
   },
   "outputs": [],
   "source": [
    "%reset"
   ]
  },
  {
   "cell_type": "code",
   "execution_count": 4,
   "outputs": [],
   "source": [
    "import numpy as np\n",
    "import pandas as pd"
   ],
   "metadata": {
    "collapsed": false,
    "pycharm": {
     "name": "#%%\n"
    }
   }
  },
  {
   "cell_type": "code",
   "execution_count": 5,
   "outputs": [],
   "source": [
    "import os\n",
    "#set path for root directory\n",
    "ROOT_DIR = os.path.abspath(os.curdir)"
   ],
   "metadata": {
    "collapsed": false,
    "pycharm": {
     "name": "#%%\n"
    }
   }
  },
  {
   "cell_type": "code",
   "execution_count": 6,
   "outputs": [],
   "source": [
    "%reload_ext autoreload\n",
    "%autoreload 1"
   ],
   "metadata": {
    "collapsed": false,
    "pycharm": {
     "name": "#%%\n"
    }
   }
  },
  {
   "cell_type": "code",
   "execution_count": 7,
   "outputs": [],
   "source": [
    "from hydroplotting import funcutils as fc"
   ],
   "metadata": {
    "collapsed": false,
    "pycharm": {
     "name": "#%%\n"
    }
   }
  },
  {
   "cell_type": "code",
   "execution_count": 8,
   "outputs": [],
   "source": [
    "#read in data\n",
    "path_flow_obs = ROOT_DIR + '/Data/Raw/12147600_ref.csv'\n",
    "path_flow_model = ROOT_DIR + '/Data/Raw/12147600_sim.day'\n"
   ],
   "metadata": {
    "collapsed": false,
    "pycharm": {
     "name": "#%%\n"
    }
   }
  },
  {
   "cell_type": "code",
   "execution_count": 75,
   "outputs": [],
   "source": [
    "flow_obs = pd.read_csv(path_flow_obs,  header = None)\n",
    "flow_obs.columns = ['year', 'month', 'day', 'Q_cms']\n",
    "\n"
   ],
   "metadata": {
    "collapsed": false,
    "pycharm": {
     "name": "#%%\n"
    }
   }
  },
  {
   "cell_type": "code",
   "execution_count": 76,
   "outputs": [],
   "source": [
    "#divide flow obs into"
   ],
   "metadata": {
    "collapsed": false,
    "pycharm": {
     "name": "#%%\n"
    }
   }
  },
  {
   "cell_type": "code",
   "execution_count": 78,
   "outputs": [
    {
     "data": {
      "text/plain": "            year  month  day  Q_cms  water_year water_year_str   datetime\ndatetime                                                                 \n1959-12-01  1959     12    1   90.0        1960           1960 1959-12-01\n1959-12-02  1959     12    2  110.0        1960           1960 1959-12-02\n1959-12-03  1959     12    3  110.0        1960           1960 1959-12-03\n1959-12-04  1959     12    4   90.0        1960           1960 1959-12-04\n1959-12-05  1959     12    5   80.0        1960           1960 1959-12-05\n...          ...    ...  ...    ...         ...            ...        ...\n2022-06-01  2022      6    1  104.0        2022           2022 2022-06-01\n2022-06-02  2022      6    2  119.0        2022           2022 2022-06-02\n2022-06-03  2022      6    3  161.0        2022           2022 2022-06-03\n2022-06-04  2022      6    4  134.0        2022           2022 2022-06-04\n2022-06-05  2022      6    5  185.0        2022           2022 2022-06-05\n\n[22833 rows x 7 columns]",
      "text/html": "<div>\n<style scoped>\n    .dataframe tbody tr th:only-of-type {\n        vertical-align: middle;\n    }\n\n    .dataframe tbody tr th {\n        vertical-align: top;\n    }\n\n    .dataframe thead th {\n        text-align: right;\n    }\n</style>\n<table border=\"1\" class=\"dataframe\">\n  <thead>\n    <tr style=\"text-align: right;\">\n      <th></th>\n      <th>year</th>\n      <th>month</th>\n      <th>day</th>\n      <th>Q_cms</th>\n      <th>water_year</th>\n      <th>water_year_str</th>\n      <th>datetime</th>\n    </tr>\n    <tr>\n      <th>datetime</th>\n      <th></th>\n      <th></th>\n      <th></th>\n      <th></th>\n      <th></th>\n      <th></th>\n      <th></th>\n    </tr>\n  </thead>\n  <tbody>\n    <tr>\n      <th>1959-12-01</th>\n      <td>1959</td>\n      <td>12</td>\n      <td>1</td>\n      <td>90.0</td>\n      <td>1960</td>\n      <td>1960</td>\n      <td>1959-12-01</td>\n    </tr>\n    <tr>\n      <th>1959-12-02</th>\n      <td>1959</td>\n      <td>12</td>\n      <td>2</td>\n      <td>110.0</td>\n      <td>1960</td>\n      <td>1960</td>\n      <td>1959-12-02</td>\n    </tr>\n    <tr>\n      <th>1959-12-03</th>\n      <td>1959</td>\n      <td>12</td>\n      <td>3</td>\n      <td>110.0</td>\n      <td>1960</td>\n      <td>1960</td>\n      <td>1959-12-03</td>\n    </tr>\n    <tr>\n      <th>1959-12-04</th>\n      <td>1959</td>\n      <td>12</td>\n      <td>4</td>\n      <td>90.0</td>\n      <td>1960</td>\n      <td>1960</td>\n      <td>1959-12-04</td>\n    </tr>\n    <tr>\n      <th>1959-12-05</th>\n      <td>1959</td>\n      <td>12</td>\n      <td>5</td>\n      <td>80.0</td>\n      <td>1960</td>\n      <td>1960</td>\n      <td>1959-12-05</td>\n    </tr>\n    <tr>\n      <th>...</th>\n      <td>...</td>\n      <td>...</td>\n      <td>...</td>\n      <td>...</td>\n      <td>...</td>\n      <td>...</td>\n      <td>...</td>\n    </tr>\n    <tr>\n      <th>2022-06-01</th>\n      <td>2022</td>\n      <td>6</td>\n      <td>1</td>\n      <td>104.0</td>\n      <td>2022</td>\n      <td>2022</td>\n      <td>2022-06-01</td>\n    </tr>\n    <tr>\n      <th>2022-06-02</th>\n      <td>2022</td>\n      <td>6</td>\n      <td>2</td>\n      <td>119.0</td>\n      <td>2022</td>\n      <td>2022</td>\n      <td>2022-06-02</td>\n    </tr>\n    <tr>\n      <th>2022-06-03</th>\n      <td>2022</td>\n      <td>6</td>\n      <td>3</td>\n      <td>161.0</td>\n      <td>2022</td>\n      <td>2022</td>\n      <td>2022-06-03</td>\n    </tr>\n    <tr>\n      <th>2022-06-04</th>\n      <td>2022</td>\n      <td>6</td>\n      <td>4</td>\n      <td>134.0</td>\n      <td>2022</td>\n      <td>2022</td>\n      <td>2022-06-04</td>\n    </tr>\n    <tr>\n      <th>2022-06-05</th>\n      <td>2022</td>\n      <td>6</td>\n      <td>5</td>\n      <td>185.0</td>\n      <td>2022</td>\n      <td>2022</td>\n      <td>2022-06-05</td>\n    </tr>\n  </tbody>\n</table>\n<p>22833 rows × 7 columns</p>\n</div>"
     },
     "execution_count": 78,
     "metadata": {},
     "output_type": "execute_result"
    },
    {
     "data": {
      "text/plain": "<Figure size 432x288 with 1 Axes>",
      "image/png": "[encoded data removed]"
     },
     "metadata": {
      "needs_background": "light"
     },
     "output_type": "display_data"
    }
   ],
   "source": [
    "flow_obs['datetime'] = pd.to_datetime(flow_obs[['year', 'month', 'day']])\n",
    "flow_obs = flow_obs.set_index('datetime')\n",
    "flow_obs['datetime'] = pd.to_datetime(flow_obs[['year', 'month', 'day']])\n",
    "fc.calc_water_year_apply(flow_obs)\n",
    "flow_obs['water_year_str'] = flow_obs['water_year'].astype(str)\n",
    "flow_obs.Q_cms.plot()\n",
    "flow_obs"
   ],
   "metadata": {
    "collapsed": false,
    "pycharm": {
     "name": "#%%\n"
    }
   }
  },
  {
   "cell_type": "code",
   "execution_count": 73,
   "outputs": [
    {
     "ename": "ValueError",
     "evalue": "cannot assemble the datetimes: unconverted data remains: 48",
     "output_type": "error",
     "traceback": [
      "\u001B[0;31m---------------------------------------------------------------------------\u001B[0m",
      "\u001B[0;31mTypeError\u001B[0m                                 Traceback (most recent call last)",
      "File \u001B[0;32m/opt/homebrew/Caskroom/miniforge/base/envs/snowSCL/lib/python3.8/site-packages/pandas/core/tools/datetimes.py:510\u001B[0m, in \u001B[0;36m_to_datetime_with_format\u001B[0;34m(arg, orig_arg, name, tz, fmt, exact, errors, infer_datetime_format)\u001B[0m\n\u001B[1;32m    509\u001B[0m \u001B[38;5;28;01mtry\u001B[39;00m:\n\u001B[0;32m--> 510\u001B[0m     values, tz \u001B[38;5;241m=\u001B[39m \u001B[43mconversion\u001B[49m\u001B[38;5;241;43m.\u001B[39;49m\u001B[43mdatetime_to_datetime64\u001B[49m\u001B[43m(\u001B[49m\u001B[43marg\u001B[49m\u001B[43m)\u001B[49m\n\u001B[1;32m    511\u001B[0m     dta \u001B[38;5;241m=\u001B[39m DatetimeArray(values, dtype\u001B[38;5;241m=\u001B[39mtz_to_dtype(tz))\n",
      "File \u001B[0;32m/opt/homebrew/Caskroom/miniforge/base/envs/snowSCL/lib/python3.8/site-packages/pandas/_libs/tslibs/conversion.pyx:360\u001B[0m, in \u001B[0;36mpandas._libs.tslibs.conversion.datetime_to_datetime64\u001B[0;34m()\u001B[0m\n",
      "\u001B[0;31mTypeError\u001B[0m: Unrecognized value type: <class 'int'>",
      "\nDuring handling of the above exception, another exception occurred:\n",
      "\u001B[0;31mValueError\u001B[0m                                Traceback (most recent call last)",
      "File \u001B[0;32m/opt/homebrew/Caskroom/miniforge/base/envs/snowSCL/lib/python3.8/site-packages/pandas/core/tools/datetimes.py:1188\u001B[0m, in \u001B[0;36m_assemble_from_unit_mappings\u001B[0;34m(arg, errors, tz)\u001B[0m\n\u001B[1;32m   1187\u001B[0m \u001B[38;5;28;01mtry\u001B[39;00m:\n\u001B[0;32m-> 1188\u001B[0m     values \u001B[38;5;241m=\u001B[39m \u001B[43mto_datetime\u001B[49m\u001B[43m(\u001B[49m\u001B[43mvalues\u001B[49m\u001B[43m,\u001B[49m\u001B[43m \u001B[49m\u001B[38;5;28;43mformat\u001B[39;49m\u001B[38;5;241;43m=\u001B[39;49m\u001B[38;5;124;43m\"\u001B[39;49m\u001B[38;5;124;43m%\u001B[39;49m\u001B[38;5;124;43mY\u001B[39;49m\u001B[38;5;124;43m%\u001B[39;49m\u001B[38;5;124;43mm\u001B[39;49m\u001B[38;5;132;43;01m%d\u001B[39;49;00m\u001B[38;5;124;43m\"\u001B[39;49m\u001B[43m,\u001B[49m\u001B[43m \u001B[49m\u001B[43merrors\u001B[49m\u001B[38;5;241;43m=\u001B[39;49m\u001B[43merrors\u001B[49m\u001B[43m,\u001B[49m\u001B[43m \u001B[49m\u001B[43mutc\u001B[49m\u001B[38;5;241;43m=\u001B[39;49m\u001B[43mtz\u001B[49m\u001B[43m)\u001B[49m\n\u001B[1;32m   1189\u001B[0m \u001B[38;5;28;01mexcept\u001B[39;00m (\u001B[38;5;167;01mTypeError\u001B[39;00m, \u001B[38;5;167;01mValueError\u001B[39;00m) \u001B[38;5;28;01mas\u001B[39;00m err:\n",
      "File \u001B[0;32m/opt/homebrew/Caskroom/miniforge/base/envs/snowSCL/lib/python3.8/site-packages/pandas/core/tools/datetimes.py:1051\u001B[0m, in \u001B[0;36mto_datetime\u001B[0;34m(arg, errors, dayfirst, yearfirst, utc, format, exact, unit, infer_datetime_format, origin, cache)\u001B[0m\n\u001B[1;32m   1050\u001B[0m \u001B[38;5;28;01melse\u001B[39;00m:\n\u001B[0;32m-> 1051\u001B[0m     values \u001B[38;5;241m=\u001B[39m \u001B[43mconvert_listlike\u001B[49m\u001B[43m(\u001B[49m\u001B[43marg\u001B[49m\u001B[38;5;241;43m.\u001B[39;49m\u001B[43m_values\u001B[49m\u001B[43m,\u001B[49m\u001B[43m \u001B[49m\u001B[38;5;28;43mformat\u001B[39;49m\u001B[43m)\u001B[49m\n\u001B[1;32m   1052\u001B[0m     result \u001B[38;5;241m=\u001B[39m arg\u001B[38;5;241m.\u001B[39m_constructor(values, index\u001B[38;5;241m=\u001B[39marg\u001B[38;5;241m.\u001B[39mindex, name\u001B[38;5;241m=\u001B[39marg\u001B[38;5;241m.\u001B[39mname)\n",
      "File \u001B[0;32m/opt/homebrew/Caskroom/miniforge/base/envs/snowSCL/lib/python3.8/site-packages/pandas/core/tools/datetimes.py:394\u001B[0m, in \u001B[0;36m_convert_listlike_datetimes\u001B[0;34m(arg, format, name, tz, unit, errors, infer_datetime_format, dayfirst, yearfirst, exact)\u001B[0m\n\u001B[1;32m    393\u001B[0m \u001B[38;5;28;01mif\u001B[39;00m \u001B[38;5;28mformat\u001B[39m \u001B[38;5;129;01mis\u001B[39;00m \u001B[38;5;129;01mnot\u001B[39;00m \u001B[38;5;28;01mNone\u001B[39;00m:\n\u001B[0;32m--> 394\u001B[0m     res \u001B[38;5;241m=\u001B[39m \u001B[43m_to_datetime_with_format\u001B[49m\u001B[43m(\u001B[49m\n\u001B[1;32m    395\u001B[0m \u001B[43m        \u001B[49m\u001B[43marg\u001B[49m\u001B[43m,\u001B[49m\u001B[43m \u001B[49m\u001B[43morig_arg\u001B[49m\u001B[43m,\u001B[49m\u001B[43m \u001B[49m\u001B[43mname\u001B[49m\u001B[43m,\u001B[49m\u001B[43m \u001B[49m\u001B[43mtz\u001B[49m\u001B[43m,\u001B[49m\u001B[43m \u001B[49m\u001B[38;5;28;43mformat\u001B[39;49m\u001B[43m,\u001B[49m\u001B[43m \u001B[49m\u001B[43mexact\u001B[49m\u001B[43m,\u001B[49m\u001B[43m \u001B[49m\u001B[43merrors\u001B[49m\u001B[43m,\u001B[49m\u001B[43m \u001B[49m\u001B[43minfer_datetime_format\u001B[49m\n\u001B[1;32m    396\u001B[0m \u001B[43m    \u001B[49m\u001B[43m)\u001B[49m\n\u001B[1;32m    397\u001B[0m     \u001B[38;5;28;01mif\u001B[39;00m res \u001B[38;5;129;01mis\u001B[39;00m \u001B[38;5;129;01mnot\u001B[39;00m \u001B[38;5;28;01mNone\u001B[39;00m:\n",
      "File \u001B[0;32m/opt/homebrew/Caskroom/miniforge/base/envs/snowSCL/lib/python3.8/site-packages/pandas/core/tools/datetimes.py:514\u001B[0m, in \u001B[0;36m_to_datetime_with_format\u001B[0;34m(arg, orig_arg, name, tz, fmt, exact, errors, infer_datetime_format)\u001B[0m\n\u001B[1;32m    513\u001B[0m \u001B[38;5;28;01mexcept\u001B[39;00m (\u001B[38;5;167;01mValueError\u001B[39;00m, \u001B[38;5;167;01mTypeError\u001B[39;00m):\n\u001B[0;32m--> 514\u001B[0m     \u001B[38;5;28;01mraise\u001B[39;00m err\n",
      "File \u001B[0;32m/opt/homebrew/Caskroom/miniforge/base/envs/snowSCL/lib/python3.8/site-packages/pandas/core/tools/datetimes.py:501\u001B[0m, in \u001B[0;36m_to_datetime_with_format\u001B[0;34m(arg, orig_arg, name, tz, fmt, exact, errors, infer_datetime_format)\u001B[0m\n\u001B[1;32m    500\u001B[0m \u001B[38;5;66;03m# fallback\u001B[39;00m\n\u001B[0;32m--> 501\u001B[0m res \u001B[38;5;241m=\u001B[39m \u001B[43m_array_strptime_with_fallback\u001B[49m\u001B[43m(\u001B[49m\n\u001B[1;32m    502\u001B[0m \u001B[43m    \u001B[49m\u001B[43marg\u001B[49m\u001B[43m,\u001B[49m\u001B[43m \u001B[49m\u001B[43mname\u001B[49m\u001B[43m,\u001B[49m\u001B[43m \u001B[49m\u001B[43mtz\u001B[49m\u001B[43m,\u001B[49m\u001B[43m \u001B[49m\u001B[43mfmt\u001B[49m\u001B[43m,\u001B[49m\u001B[43m \u001B[49m\u001B[43mexact\u001B[49m\u001B[43m,\u001B[49m\u001B[43m \u001B[49m\u001B[43merrors\u001B[49m\u001B[43m,\u001B[49m\u001B[43m \u001B[49m\u001B[43minfer_datetime_format\u001B[49m\n\u001B[1;32m    503\u001B[0m \u001B[43m\u001B[49m\u001B[43m)\u001B[49m\n\u001B[1;32m    504\u001B[0m \u001B[38;5;28;01mreturn\u001B[39;00m res\n",
      "File \u001B[0;32m/opt/homebrew/Caskroom/miniforge/base/envs/snowSCL/lib/python3.8/site-packages/pandas/core/tools/datetimes.py:437\u001B[0m, in \u001B[0;36m_array_strptime_with_fallback\u001B[0;34m(arg, name, tz, fmt, exact, errors, infer_datetime_format)\u001B[0m\n\u001B[1;32m    436\u001B[0m \u001B[38;5;28;01mtry\u001B[39;00m:\n\u001B[0;32m--> 437\u001B[0m     result, timezones \u001B[38;5;241m=\u001B[39m \u001B[43marray_strptime\u001B[49m\u001B[43m(\u001B[49m\u001B[43marg\u001B[49m\u001B[43m,\u001B[49m\u001B[43m \u001B[49m\u001B[43mfmt\u001B[49m\u001B[43m,\u001B[49m\u001B[43m \u001B[49m\u001B[43mexact\u001B[49m\u001B[38;5;241;43m=\u001B[39;49m\u001B[43mexact\u001B[49m\u001B[43m,\u001B[49m\u001B[43m \u001B[49m\u001B[43merrors\u001B[49m\u001B[38;5;241;43m=\u001B[39;49m\u001B[43merrors\u001B[49m\u001B[43m)\u001B[49m\n\u001B[1;32m    438\u001B[0m     \u001B[38;5;28;01mif\u001B[39;00m \u001B[38;5;124m\"\u001B[39m\u001B[38;5;124m%\u001B[39m\u001B[38;5;124mZ\u001B[39m\u001B[38;5;124m\"\u001B[39m \u001B[38;5;129;01min\u001B[39;00m fmt \u001B[38;5;129;01mor\u001B[39;00m \u001B[38;5;124m\"\u001B[39m\u001B[38;5;124m%\u001B[39m\u001B[38;5;124mz\u001B[39m\u001B[38;5;124m\"\u001B[39m \u001B[38;5;129;01min\u001B[39;00m fmt:\n",
      "File \u001B[0;32m/opt/homebrew/Caskroom/miniforge/base/envs/snowSCL/lib/python3.8/site-packages/pandas/_libs/tslibs/strptime.pyx:156\u001B[0m, in \u001B[0;36mpandas._libs.tslibs.strptime.array_strptime\u001B[0;34m()\u001B[0m\n",
      "\u001B[0;31mValueError\u001B[0m: unconverted data remains: 48",
      "\nThe above exception was the direct cause of the following exception:\n",
      "\u001B[0;31mValueError\u001B[0m                                Traceback (most recent call last)",
      "Input \u001B[0;32mIn [73]\u001B[0m, in \u001B[0;36m<cell line: 3>\u001B[0;34m()\u001B[0m\n\u001B[1;32m      1\u001B[0m flow_obs_to_plot \u001B[38;5;241m=\u001B[39m flow_obs\u001B[38;5;241m.\u001B[39mrolling(window\u001B[38;5;241m=\u001B[39m\u001B[38;5;241m3\u001B[39m, center\u001B[38;5;241m=\u001B[39m\u001B[38;5;28;01mTrue\u001B[39;00m, win_type\u001B[38;5;241m=\u001B[39m\u001B[38;5;124m'\u001B[39m\u001B[38;5;124mtriang\u001B[39m\u001B[38;5;124m'\u001B[39m)\u001B[38;5;241m.\u001B[39mmean()\n\u001B[1;32m      2\u001B[0m flow_obs_to_plot \u001B[38;5;241m=\u001B[39m flow_obs_to_plot\u001B[38;5;241m.\u001B[39miloc[\u001B[38;5;241m1\u001B[39m: , :]\n\u001B[0;32m----> 3\u001B[0m flow_obs_to_plot[\u001B[38;5;124m'\u001B[39m\u001B[38;5;124mdatetime\u001B[39m\u001B[38;5;124m'\u001B[39m] \u001B[38;5;241m=\u001B[39m \u001B[43mpd\u001B[49m\u001B[38;5;241;43m.\u001B[39;49m\u001B[43mto_datetime\u001B[49m\u001B[43m(\u001B[49m\u001B[43mflow_obs_to_plot\u001B[49m\u001B[43m[\u001B[49m\u001B[43m[\u001B[49m\u001B[38;5;124;43m'\u001B[39;49m\u001B[38;5;124;43myear\u001B[39;49m\u001B[38;5;124;43m'\u001B[39;49m\u001B[43m,\u001B[49m\u001B[43m \u001B[49m\u001B[38;5;124;43m'\u001B[39;49m\u001B[38;5;124;43mmonth\u001B[39;49m\u001B[38;5;124;43m'\u001B[39;49m\u001B[43m,\u001B[49m\u001B[43m \u001B[49m\u001B[38;5;124;43m'\u001B[39;49m\u001B[38;5;124;43mday\u001B[39;49m\u001B[38;5;124;43m'\u001B[39;49m\u001B[43m]\u001B[49m\u001B[43m]\u001B[49m\u001B[43m)\u001B[49m\n",
      "File \u001B[0;32m/opt/homebrew/Caskroom/miniforge/base/envs/snowSCL/lib/python3.8/site-packages/pandas/core/tools/datetimes.py:1054\u001B[0m, in \u001B[0;36mto_datetime\u001B[0;34m(arg, errors, dayfirst, yearfirst, utc, format, exact, unit, infer_datetime_format, origin, cache)\u001B[0m\n\u001B[1;32m   1052\u001B[0m         result \u001B[38;5;241m=\u001B[39m arg\u001B[38;5;241m.\u001B[39m_constructor(values, index\u001B[38;5;241m=\u001B[39marg\u001B[38;5;241m.\u001B[39mindex, name\u001B[38;5;241m=\u001B[39marg\u001B[38;5;241m.\u001B[39mname)\n\u001B[1;32m   1053\u001B[0m \u001B[38;5;28;01melif\u001B[39;00m \u001B[38;5;28misinstance\u001B[39m(arg, (ABCDataFrame, abc\u001B[38;5;241m.\u001B[39mMutableMapping)):\n\u001B[0;32m-> 1054\u001B[0m     result \u001B[38;5;241m=\u001B[39m \u001B[43m_assemble_from_unit_mappings\u001B[49m\u001B[43m(\u001B[49m\u001B[43marg\u001B[49m\u001B[43m,\u001B[49m\u001B[43m \u001B[49m\u001B[43merrors\u001B[49m\u001B[43m,\u001B[49m\u001B[43m \u001B[49m\u001B[43mtz\u001B[49m\u001B[43m)\u001B[49m\n\u001B[1;32m   1055\u001B[0m \u001B[38;5;28;01melif\u001B[39;00m \u001B[38;5;28misinstance\u001B[39m(arg, Index):\n\u001B[1;32m   1056\u001B[0m     cache_array \u001B[38;5;241m=\u001B[39m _maybe_cache(arg, \u001B[38;5;28mformat\u001B[39m, cache, convert_listlike)\n",
      "File \u001B[0;32m/opt/homebrew/Caskroom/miniforge/base/envs/snowSCL/lib/python3.8/site-packages/pandas/core/tools/datetimes.py:1190\u001B[0m, in \u001B[0;36m_assemble_from_unit_mappings\u001B[0;34m(arg, errors, tz)\u001B[0m\n\u001B[1;32m   1188\u001B[0m     values \u001B[38;5;241m=\u001B[39m to_datetime(values, \u001B[38;5;28mformat\u001B[39m\u001B[38;5;241m=\u001B[39m\u001B[38;5;124m\"\u001B[39m\u001B[38;5;124m%\u001B[39m\u001B[38;5;124mY\u001B[39m\u001B[38;5;124m%\u001B[39m\u001B[38;5;124mm\u001B[39m\u001B[38;5;132;01m%d\u001B[39;00m\u001B[38;5;124m\"\u001B[39m, errors\u001B[38;5;241m=\u001B[39merrors, utc\u001B[38;5;241m=\u001B[39mtz)\n\u001B[1;32m   1189\u001B[0m \u001B[38;5;28;01mexcept\u001B[39;00m (\u001B[38;5;167;01mTypeError\u001B[39;00m, \u001B[38;5;167;01mValueError\u001B[39;00m) \u001B[38;5;28;01mas\u001B[39;00m err:\n\u001B[0;32m-> 1190\u001B[0m     \u001B[38;5;28;01mraise\u001B[39;00m \u001B[38;5;167;01mValueError\u001B[39;00m(\u001B[38;5;124mf\u001B[39m\u001B[38;5;124m\"\u001B[39m\u001B[38;5;124mcannot assemble the datetimes: \u001B[39m\u001B[38;5;132;01m{\u001B[39;00merr\u001B[38;5;132;01m}\u001B[39;00m\u001B[38;5;124m\"\u001B[39m) \u001B[38;5;28;01mfrom\u001B[39;00m \u001B[38;5;21;01merr\u001B[39;00m\n\u001B[1;32m   1192\u001B[0m \u001B[38;5;28;01mfor\u001B[39;00m u \u001B[38;5;129;01min\u001B[39;00m [\u001B[38;5;124m\"\u001B[39m\u001B[38;5;124mh\u001B[39m\u001B[38;5;124m\"\u001B[39m, \u001B[38;5;124m\"\u001B[39m\u001B[38;5;124mm\u001B[39m\u001B[38;5;124m\"\u001B[39m, \u001B[38;5;124m\"\u001B[39m\u001B[38;5;124ms\u001B[39m\u001B[38;5;124m\"\u001B[39m, \u001B[38;5;124m\"\u001B[39m\u001B[38;5;124mms\u001B[39m\u001B[38;5;124m\"\u001B[39m, \u001B[38;5;124m\"\u001B[39m\u001B[38;5;124mus\u001B[39m\u001B[38;5;124m\"\u001B[39m, \u001B[38;5;124m\"\u001B[39m\u001B[38;5;124mns\u001B[39m\u001B[38;5;124m\"\u001B[39m]:\n\u001B[1;32m   1193\u001B[0m     value \u001B[38;5;241m=\u001B[39m unit_rev\u001B[38;5;241m.\u001B[39mget(u)\n",
      "\u001B[0;31mValueError\u001B[0m: cannot assemble the datetimes: unconverted data remains: 48"
     ]
    }
   ],
   "source": [
    "flow_obs_to_plot = flow_obs.rolling(window=3, center=True, win_type='triang').mean()\n",
    "flow_obs_to_plot = flow_obs_to_plot.iloc[1: , :]\n",
    "flow_obs_to_plot['datetime'] = pd.to_datetime(flow_obs_to_plot[['year', 'month', 'day']])"
   ],
   "metadata": {
    "collapsed": false,
    "pycharm": {
     "name": "#%%\n"
    }
   }
  },
  {
   "cell_type": "code",
   "execution_count": 72,
   "outputs": [
    {
     "data": {
      "text/plain": "         year  month   day    Q_cms\n1      1959.0  12.00  2.00  105.000\n2      1959.0  12.00  3.00  105.000\n3      1959.0  12.00  4.00   92.500\n4      1959.0  12.00  5.00   82.500\n5      1959.0  12.00  6.00   85.000\n...       ...    ...   ...      ...\n22828  2022.0   5.75  8.75  104.075\n22829  2022.0   6.00  2.00  125.750\n22830  2022.0   6.00  3.00  143.750\n22831  2022.0   6.00  4.00  153.500\n22832     NaN    NaN   NaN      NaN\n\n[22832 rows x 4 columns]",
      "text/html": "<div>\n<style scoped>\n    .dataframe tbody tr th:only-of-type {\n        vertical-align: middle;\n    }\n\n    .dataframe tbody tr th {\n        vertical-align: top;\n    }\n\n    .dataframe thead th {\n        text-align: right;\n    }\n</style>\n<table border=\"1\" class=\"dataframe\">\n  <thead>\n    <tr style=\"text-align: right;\">\n      <th></th>\n      <th>year</th>\n      <th>month</th>\n      <th>day</th>\n      <th>Q_cms</th>\n    </tr>\n  </thead>\n  <tbody>\n    <tr>\n      <th>1</th>\n      <td>1959.0</td>\n      <td>12.00</td>\n      <td>2.00</td>\n      <td>105.000</td>\n    </tr>\n    <tr>\n      <th>2</th>\n      <td>1959.0</td>\n      <td>12.00</td>\n      <td>3.00</td>\n      <td>105.000</td>\n    </tr>\n    <tr>\n      <th>3</th>\n      <td>1959.0</td>\n      <td>12.00</td>\n      <td>4.00</td>\n      <td>92.500</td>\n    </tr>\n    <tr>\n      <th>4</th>\n      <td>1959.0</td>\n      <td>12.00</td>\n      <td>5.00</td>\n      <td>82.500</td>\n    </tr>\n    <tr>\n      <th>5</th>\n      <td>1959.0</td>\n      <td>12.00</td>\n      <td>6.00</td>\n      <td>85.000</td>\n    </tr>\n    <tr>\n      <th>...</th>\n      <td>...</td>\n      <td>...</td>\n      <td>...</td>\n      <td>...</td>\n    </tr>\n    <tr>\n      <th>22828</th>\n      <td>2022.0</td>\n      <td>5.75</td>\n      <td>8.75</td>\n      <td>104.075</td>\n    </tr>\n    <tr>\n      <th>22829</th>\n      <td>2022.0</td>\n      <td>6.00</td>\n      <td>2.00</td>\n      <td>125.750</td>\n    </tr>\n    <tr>\n      <th>22830</th>\n      <td>2022.0</td>\n      <td>6.00</td>\n      <td>3.00</td>\n      <td>143.750</td>\n    </tr>\n    <tr>\n      <th>22831</th>\n      <td>2022.0</td>\n      <td>6.00</td>\n      <td>4.00</td>\n      <td>153.500</td>\n    </tr>\n    <tr>\n      <th>22832</th>\n      <td>NaN</td>\n      <td>NaN</td>\n      <td>NaN</td>\n      <td>NaN</td>\n    </tr>\n  </tbody>\n</table>\n<p>22832 rows × 4 columns</p>\n</div>"
     },
     "execution_count": 72,
     "metadata": {},
     "output_type": "execute_result"
    }
   ],
   "source": [
    "flow_obs_to_plot"
   ],
   "metadata": {
    "collapsed": false,
    "pycharm": {
     "name": "#%%\n"
    }
   }
  },
  {
   "cell_type": "code",
   "execution_count": 70,
   "outputs": [
    {
     "ename": "AttributeError",
     "evalue": "'RangeIndex' object has no attribute 'dayofyear'",
     "output_type": "error",
     "traceback": [
      "\u001B[0;31m---------------------------------------------------------------------------\u001B[0m",
      "\u001B[0;31mAttributeError\u001B[0m                            Traceback (most recent call last)",
      "Input \u001B[0;32mIn [70]\u001B[0m, in \u001B[0;36m<cell line: 1>\u001B[0;34m()\u001B[0m\n\u001B[0;32m----> 1\u001B[0m flow_obs_to_plot[\u001B[38;5;124m'\u001B[39m\u001B[38;5;124mdoy\u001B[39m\u001B[38;5;124m'\u001B[39m] \u001B[38;5;241m=\u001B[39m \u001B[43mflow_obs_to_plot\u001B[49m\u001B[38;5;241;43m.\u001B[39;49m\u001B[43mindex\u001B[49m\u001B[38;5;241;43m.\u001B[39;49m\u001B[43mdayofyear\u001B[49m\n\u001B[1;32m      2\u001B[0m tst \u001B[38;5;241m=\u001B[39m flow_obs_to_plot\u001B[38;5;241m.\u001B[39mindex\u001B[38;5;241m.\u001B[39mdayofyear\n",
      "\u001B[0;31mAttributeError\u001B[0m: 'RangeIndex' object has no attribute 'dayofyear'"
     ]
    }
   ],
   "source": [
    "flow_obs_to_plot['doy'] = flow_obs_to_plot.index.dayofyear\n",
    "tst = flow_obs_to_plot.index.dayofyear"
   ],
   "metadata": {
    "collapsed": false,
    "pycharm": {
     "name": "#%%\n"
    }
   }
  },
  {
   "cell_type": "code",
   "execution_count": 66,
   "outputs": [],
   "source": [],
   "metadata": {
    "collapsed": false,
    "pycharm": {
     "name": "#%%\n"
    }
   }
  },
  {
   "cell_type": "code",
   "execution_count": 67,
   "outputs": [
    {
     "ename": "ValueError",
     "evalue": "cannot assemble the datetimes: unconverted data remains: 48",
     "output_type": "error",
     "traceback": [
      "\u001B[0;31m---------------------------------------------------------------------------\u001B[0m",
      "\u001B[0;31mTypeError\u001B[0m                                 Traceback (most recent call last)",
      "File \u001B[0;32m/opt/homebrew/Caskroom/miniforge/base/envs/snowSCL/lib/python3.8/site-packages/pandas/core/tools/datetimes.py:510\u001B[0m, in \u001B[0;36m_to_datetime_with_format\u001B[0;34m(arg, orig_arg, name, tz, fmt, exact, errors, infer_datetime_format)\u001B[0m\n\u001B[1;32m    509\u001B[0m \u001B[38;5;28;01mtry\u001B[39;00m:\n\u001B[0;32m--> 510\u001B[0m     values, tz \u001B[38;5;241m=\u001B[39m \u001B[43mconversion\u001B[49m\u001B[38;5;241;43m.\u001B[39;49m\u001B[43mdatetime_to_datetime64\u001B[49m\u001B[43m(\u001B[49m\u001B[43marg\u001B[49m\u001B[43m)\u001B[49m\n\u001B[1;32m    511\u001B[0m     dta \u001B[38;5;241m=\u001B[39m DatetimeArray(values, dtype\u001B[38;5;241m=\u001B[39mtz_to_dtype(tz))\n",
      "File \u001B[0;32m/opt/homebrew/Caskroom/miniforge/base/envs/snowSCL/lib/python3.8/site-packages/pandas/_libs/tslibs/conversion.pyx:360\u001B[0m, in \u001B[0;36mpandas._libs.tslibs.conversion.datetime_to_datetime64\u001B[0;34m()\u001B[0m\n",
      "\u001B[0;31mTypeError\u001B[0m: Unrecognized value type: <class 'int'>",
      "\nDuring handling of the above exception, another exception occurred:\n",
      "\u001B[0;31mValueError\u001B[0m                                Traceback (most recent call last)",
      "File \u001B[0;32m/opt/homebrew/Caskroom/miniforge/base/envs/snowSCL/lib/python3.8/site-packages/pandas/core/tools/datetimes.py:1188\u001B[0m, in \u001B[0;36m_assemble_from_unit_mappings\u001B[0;34m(arg, errors, tz)\u001B[0m\n\u001B[1;32m   1187\u001B[0m \u001B[38;5;28;01mtry\u001B[39;00m:\n\u001B[0;32m-> 1188\u001B[0m     values \u001B[38;5;241m=\u001B[39m \u001B[43mto_datetime\u001B[49m\u001B[43m(\u001B[49m\u001B[43mvalues\u001B[49m\u001B[43m,\u001B[49m\u001B[43m \u001B[49m\u001B[38;5;28;43mformat\u001B[39;49m\u001B[38;5;241;43m=\u001B[39;49m\u001B[38;5;124;43m\"\u001B[39;49m\u001B[38;5;124;43m%\u001B[39;49m\u001B[38;5;124;43mY\u001B[39;49m\u001B[38;5;124;43m%\u001B[39;49m\u001B[38;5;124;43mm\u001B[39;49m\u001B[38;5;132;43;01m%d\u001B[39;49;00m\u001B[38;5;124;43m\"\u001B[39;49m\u001B[43m,\u001B[49m\u001B[43m \u001B[49m\u001B[43merrors\u001B[49m\u001B[38;5;241;43m=\u001B[39;49m\u001B[43merrors\u001B[49m\u001B[43m,\u001B[49m\u001B[43m \u001B[49m\u001B[43mutc\u001B[49m\u001B[38;5;241;43m=\u001B[39;49m\u001B[43mtz\u001B[49m\u001B[43m)\u001B[49m\n\u001B[1;32m   1189\u001B[0m \u001B[38;5;28;01mexcept\u001B[39;00m (\u001B[38;5;167;01mTypeError\u001B[39;00m, \u001B[38;5;167;01mValueError\u001B[39;00m) \u001B[38;5;28;01mas\u001B[39;00m err:\n",
      "File \u001B[0;32m/opt/homebrew/Caskroom/miniforge/base/envs/snowSCL/lib/python3.8/site-packages/pandas/core/tools/datetimes.py:1051\u001B[0m, in \u001B[0;36mto_datetime\u001B[0;34m(arg, errors, dayfirst, yearfirst, utc, format, exact, unit, infer_datetime_format, origin, cache)\u001B[0m\n\u001B[1;32m   1050\u001B[0m \u001B[38;5;28;01melse\u001B[39;00m:\n\u001B[0;32m-> 1051\u001B[0m     values \u001B[38;5;241m=\u001B[39m \u001B[43mconvert_listlike\u001B[49m\u001B[43m(\u001B[49m\u001B[43marg\u001B[49m\u001B[38;5;241;43m.\u001B[39;49m\u001B[43m_values\u001B[49m\u001B[43m,\u001B[49m\u001B[43m \u001B[49m\u001B[38;5;28;43mformat\u001B[39;49m\u001B[43m)\u001B[49m\n\u001B[1;32m   1052\u001B[0m     result \u001B[38;5;241m=\u001B[39m arg\u001B[38;5;241m.\u001B[39m_constructor(values, index\u001B[38;5;241m=\u001B[39marg\u001B[38;5;241m.\u001B[39mindex, name\u001B[38;5;241m=\u001B[39marg\u001B[38;5;241m.\u001B[39mname)\n",
      "File \u001B[0;32m/opt/homebrew/Caskroom/miniforge/base/envs/snowSCL/lib/python3.8/site-packages/pandas/core/tools/datetimes.py:394\u001B[0m, in \u001B[0;36m_convert_listlike_datetimes\u001B[0;34m(arg, format, name, tz, unit, errors, infer_datetime_format, dayfirst, yearfirst, exact)\u001B[0m\n\u001B[1;32m    393\u001B[0m \u001B[38;5;28;01mif\u001B[39;00m \u001B[38;5;28mformat\u001B[39m \u001B[38;5;129;01mis\u001B[39;00m \u001B[38;5;129;01mnot\u001B[39;00m \u001B[38;5;28;01mNone\u001B[39;00m:\n\u001B[0;32m--> 394\u001B[0m     res \u001B[38;5;241m=\u001B[39m \u001B[43m_to_datetime_with_format\u001B[49m\u001B[43m(\u001B[49m\n\u001B[1;32m    395\u001B[0m \u001B[43m        \u001B[49m\u001B[43marg\u001B[49m\u001B[43m,\u001B[49m\u001B[43m \u001B[49m\u001B[43morig_arg\u001B[49m\u001B[43m,\u001B[49m\u001B[43m \u001B[49m\u001B[43mname\u001B[49m\u001B[43m,\u001B[49m\u001B[43m \u001B[49m\u001B[43mtz\u001B[49m\u001B[43m,\u001B[49m\u001B[43m \u001B[49m\u001B[38;5;28;43mformat\u001B[39;49m\u001B[43m,\u001B[49m\u001B[43m \u001B[49m\u001B[43mexact\u001B[49m\u001B[43m,\u001B[49m\u001B[43m \u001B[49m\u001B[43merrors\u001B[49m\u001B[43m,\u001B[49m\u001B[43m \u001B[49m\u001B[43minfer_datetime_format\u001B[49m\n\u001B[1;32m    396\u001B[0m \u001B[43m    \u001B[49m\u001B[43m)\u001B[49m\n\u001B[1;32m    397\u001B[0m     \u001B[38;5;28;01mif\u001B[39;00m res \u001B[38;5;129;01mis\u001B[39;00m \u001B[38;5;129;01mnot\u001B[39;00m \u001B[38;5;28;01mNone\u001B[39;00m:\n",
      "File \u001B[0;32m/opt/homebrew/Caskroom/miniforge/base/envs/snowSCL/lib/python3.8/site-packages/pandas/core/tools/datetimes.py:514\u001B[0m, in \u001B[0;36m_to_datetime_with_format\u001B[0;34m(arg, orig_arg, name, tz, fmt, exact, errors, infer_datetime_format)\u001B[0m\n\u001B[1;32m    513\u001B[0m \u001B[38;5;28;01mexcept\u001B[39;00m (\u001B[38;5;167;01mValueError\u001B[39;00m, \u001B[38;5;167;01mTypeError\u001B[39;00m):\n\u001B[0;32m--> 514\u001B[0m     \u001B[38;5;28;01mraise\u001B[39;00m err\n",
      "File \u001B[0;32m/opt/homebrew/Caskroom/miniforge/base/envs/snowSCL/lib/python3.8/site-packages/pandas/core/tools/datetimes.py:501\u001B[0m, in \u001B[0;36m_to_datetime_with_format\u001B[0;34m(arg, orig_arg, name, tz, fmt, exact, errors, infer_datetime_format)\u001B[0m\n\u001B[1;32m    500\u001B[0m \u001B[38;5;66;03m# fallback\u001B[39;00m\n\u001B[0;32m--> 501\u001B[0m res \u001B[38;5;241m=\u001B[39m \u001B[43m_array_strptime_with_fallback\u001B[49m\u001B[43m(\u001B[49m\n\u001B[1;32m    502\u001B[0m \u001B[43m    \u001B[49m\u001B[43marg\u001B[49m\u001B[43m,\u001B[49m\u001B[43m \u001B[49m\u001B[43mname\u001B[49m\u001B[43m,\u001B[49m\u001B[43m \u001B[49m\u001B[43mtz\u001B[49m\u001B[43m,\u001B[49m\u001B[43m \u001B[49m\u001B[43mfmt\u001B[49m\u001B[43m,\u001B[49m\u001B[43m \u001B[49m\u001B[43mexact\u001B[49m\u001B[43m,\u001B[49m\u001B[43m \u001B[49m\u001B[43merrors\u001B[49m\u001B[43m,\u001B[49m\u001B[43m \u001B[49m\u001B[43minfer_datetime_format\u001B[49m\n\u001B[1;32m    503\u001B[0m \u001B[43m\u001B[49m\u001B[43m)\u001B[49m\n\u001B[1;32m    504\u001B[0m \u001B[38;5;28;01mreturn\u001B[39;00m res\n",
      "File \u001B[0;32m/opt/homebrew/Caskroom/miniforge/base/envs/snowSCL/lib/python3.8/site-packages/pandas/core/tools/datetimes.py:437\u001B[0m, in \u001B[0;36m_array_strptime_with_fallback\u001B[0;34m(arg, name, tz, fmt, exact, errors, infer_datetime_format)\u001B[0m\n\u001B[1;32m    436\u001B[0m \u001B[38;5;28;01mtry\u001B[39;00m:\n\u001B[0;32m--> 437\u001B[0m     result, timezones \u001B[38;5;241m=\u001B[39m \u001B[43marray_strptime\u001B[49m\u001B[43m(\u001B[49m\u001B[43marg\u001B[49m\u001B[43m,\u001B[49m\u001B[43m \u001B[49m\u001B[43mfmt\u001B[49m\u001B[43m,\u001B[49m\u001B[43m \u001B[49m\u001B[43mexact\u001B[49m\u001B[38;5;241;43m=\u001B[39;49m\u001B[43mexact\u001B[49m\u001B[43m,\u001B[49m\u001B[43m \u001B[49m\u001B[43merrors\u001B[49m\u001B[38;5;241;43m=\u001B[39;49m\u001B[43merrors\u001B[49m\u001B[43m)\u001B[49m\n\u001B[1;32m    438\u001B[0m     \u001B[38;5;28;01mif\u001B[39;00m \u001B[38;5;124m\"\u001B[39m\u001B[38;5;124m%\u001B[39m\u001B[38;5;124mZ\u001B[39m\u001B[38;5;124m\"\u001B[39m \u001B[38;5;129;01min\u001B[39;00m fmt \u001B[38;5;129;01mor\u001B[39;00m \u001B[38;5;124m\"\u001B[39m\u001B[38;5;124m%\u001B[39m\u001B[38;5;124mz\u001B[39m\u001B[38;5;124m\"\u001B[39m \u001B[38;5;129;01min\u001B[39;00m fmt:\n",
      "File \u001B[0;32m/opt/homebrew/Caskroom/miniforge/base/envs/snowSCL/lib/python3.8/site-packages/pandas/_libs/tslibs/strptime.pyx:156\u001B[0m, in \u001B[0;36mpandas._libs.tslibs.strptime.array_strptime\u001B[0;34m()\u001B[0m\n",
      "\u001B[0;31mValueError\u001B[0m: unconverted data remains: 48",
      "\nThe above exception was the direct cause of the following exception:\n",
      "\u001B[0;31mValueError\u001B[0m                                Traceback (most recent call last)",
      "Input \u001B[0;32mIn [67]\u001B[0m, in \u001B[0;36m<cell line: 1>\u001B[0;34m()\u001B[0m\n\u001B[0;32m----> 1\u001B[0m flow_obs_to_plot[\u001B[38;5;124m'\u001B[39m\u001B[38;5;124mdatetime\u001B[39m\u001B[38;5;124m'\u001B[39m] \u001B[38;5;241m=\u001B[39m \u001B[43mpd\u001B[49m\u001B[38;5;241;43m.\u001B[39;49m\u001B[43mto_datetime\u001B[49m\u001B[43m(\u001B[49m\u001B[43mflow_obs_to_plot\u001B[49m\u001B[43m[\u001B[49m\u001B[43m[\u001B[49m\u001B[38;5;124;43m'\u001B[39;49m\u001B[38;5;124;43myear\u001B[39;49m\u001B[38;5;124;43m'\u001B[39;49m\u001B[43m,\u001B[49m\u001B[43m \u001B[49m\u001B[38;5;124;43m'\u001B[39;49m\u001B[38;5;124;43mmonth\u001B[39;49m\u001B[38;5;124;43m'\u001B[39;49m\u001B[43m,\u001B[49m\u001B[43m \u001B[49m\u001B[38;5;124;43m'\u001B[39;49m\u001B[38;5;124;43mday\u001B[39;49m\u001B[38;5;124;43m'\u001B[39;49m\u001B[43m]\u001B[49m\u001B[43m]\u001B[49m\u001B[43m)\u001B[49m\n\u001B[1;32m      2\u001B[0m flow_obs_to_plot\n",
      "File \u001B[0;32m/opt/homebrew/Caskroom/miniforge/base/envs/snowSCL/lib/python3.8/site-packages/pandas/core/tools/datetimes.py:1054\u001B[0m, in \u001B[0;36mto_datetime\u001B[0;34m(arg, errors, dayfirst, yearfirst, utc, format, exact, unit, infer_datetime_format, origin, cache)\u001B[0m\n\u001B[1;32m   1052\u001B[0m         result \u001B[38;5;241m=\u001B[39m arg\u001B[38;5;241m.\u001B[39m_constructor(values, index\u001B[38;5;241m=\u001B[39marg\u001B[38;5;241m.\u001B[39mindex, name\u001B[38;5;241m=\u001B[39marg\u001B[38;5;241m.\u001B[39mname)\n\u001B[1;32m   1053\u001B[0m \u001B[38;5;28;01melif\u001B[39;00m \u001B[38;5;28misinstance\u001B[39m(arg, (ABCDataFrame, abc\u001B[38;5;241m.\u001B[39mMutableMapping)):\n\u001B[0;32m-> 1054\u001B[0m     result \u001B[38;5;241m=\u001B[39m \u001B[43m_assemble_from_unit_mappings\u001B[49m\u001B[43m(\u001B[49m\u001B[43marg\u001B[49m\u001B[43m,\u001B[49m\u001B[43m \u001B[49m\u001B[43merrors\u001B[49m\u001B[43m,\u001B[49m\u001B[43m \u001B[49m\u001B[43mtz\u001B[49m\u001B[43m)\u001B[49m\n\u001B[1;32m   1055\u001B[0m \u001B[38;5;28;01melif\u001B[39;00m \u001B[38;5;28misinstance\u001B[39m(arg, Index):\n\u001B[1;32m   1056\u001B[0m     cache_array \u001B[38;5;241m=\u001B[39m _maybe_cache(arg, \u001B[38;5;28mformat\u001B[39m, cache, convert_listlike)\n",
      "File \u001B[0;32m/opt/homebrew/Caskroom/miniforge/base/envs/snowSCL/lib/python3.8/site-packages/pandas/core/tools/datetimes.py:1190\u001B[0m, in \u001B[0;36m_assemble_from_unit_mappings\u001B[0;34m(arg, errors, tz)\u001B[0m\n\u001B[1;32m   1188\u001B[0m     values \u001B[38;5;241m=\u001B[39m to_datetime(values, \u001B[38;5;28mformat\u001B[39m\u001B[38;5;241m=\u001B[39m\u001B[38;5;124m\"\u001B[39m\u001B[38;5;124m%\u001B[39m\u001B[38;5;124mY\u001B[39m\u001B[38;5;124m%\u001B[39m\u001B[38;5;124mm\u001B[39m\u001B[38;5;132;01m%d\u001B[39;00m\u001B[38;5;124m\"\u001B[39m, errors\u001B[38;5;241m=\u001B[39merrors, utc\u001B[38;5;241m=\u001B[39mtz)\n\u001B[1;32m   1189\u001B[0m \u001B[38;5;28;01mexcept\u001B[39;00m (\u001B[38;5;167;01mTypeError\u001B[39;00m, \u001B[38;5;167;01mValueError\u001B[39;00m) \u001B[38;5;28;01mas\u001B[39;00m err:\n\u001B[0;32m-> 1190\u001B[0m     \u001B[38;5;28;01mraise\u001B[39;00m \u001B[38;5;167;01mValueError\u001B[39;00m(\u001B[38;5;124mf\u001B[39m\u001B[38;5;124m\"\u001B[39m\u001B[38;5;124mcannot assemble the datetimes: \u001B[39m\u001B[38;5;132;01m{\u001B[39;00merr\u001B[38;5;132;01m}\u001B[39;00m\u001B[38;5;124m\"\u001B[39m) \u001B[38;5;28;01mfrom\u001B[39;00m \u001B[38;5;21;01merr\u001B[39;00m\n\u001B[1;32m   1192\u001B[0m \u001B[38;5;28;01mfor\u001B[39;00m u \u001B[38;5;129;01min\u001B[39;00m [\u001B[38;5;124m\"\u001B[39m\u001B[38;5;124mh\u001B[39m\u001B[38;5;124m\"\u001B[39m, \u001B[38;5;124m\"\u001B[39m\u001B[38;5;124mm\u001B[39m\u001B[38;5;124m\"\u001B[39m, \u001B[38;5;124m\"\u001B[39m\u001B[38;5;124ms\u001B[39m\u001B[38;5;124m\"\u001B[39m, \u001B[38;5;124m\"\u001B[39m\u001B[38;5;124mms\u001B[39m\u001B[38;5;124m\"\u001B[39m, \u001B[38;5;124m\"\u001B[39m\u001B[38;5;124mus\u001B[39m\u001B[38;5;124m\"\u001B[39m, \u001B[38;5;124m\"\u001B[39m\u001B[38;5;124mns\u001B[39m\u001B[38;5;124m\"\u001B[39m]:\n\u001B[1;32m   1193\u001B[0m     value \u001B[38;5;241m=\u001B[39m unit_rev\u001B[38;5;241m.\u001B[39mget(u)\n",
      "\u001B[0;31mValueError\u001B[0m: cannot assemble the datetimes: unconverted data remains: 48"
     ]
    }
   ],
   "source": [
    "flow_obs_to_plot['datetime'] = pd.to_datetime(flow_obs_to_plot[['year', 'month', 'day']])\n",
    "flow_obs_to_plot"
   ],
   "metadata": {
    "collapsed": false,
    "pycharm": {
     "name": "#%%\n"
    }
   }
  },
  {
   "cell_type": "code",
   "execution_count": 69,
   "outputs": [
    {
     "data": {
      "text/plain": "         year  month   day    Q_cms\n1      1959.0  12.00  2.00  105.000\n2      1959.0  12.00  3.00  105.000\n3      1959.0  12.00  4.00   92.500\n4      1959.0  12.00  5.00   82.500\n5      1959.0  12.00  6.00   85.000\n...       ...    ...   ...      ...\n22828  2022.0   5.75  8.75  104.075\n22829  2022.0   6.00  2.00  125.750\n22830  2022.0   6.00  3.00  143.750\n22831  2022.0   6.00  4.00  153.500\n22832     NaN    NaN   NaN      NaN\n\n[22832 rows x 4 columns]",
      "text/html": "<div>\n<style scoped>\n    .dataframe tbody tr th:only-of-type {\n        vertical-align: middle;\n    }\n\n    .dataframe tbody tr th {\n        vertical-align: top;\n    }\n\n    .dataframe thead th {\n        text-align: right;\n    }\n</style>\n<table border=\"1\" class=\"dataframe\">\n  <thead>\n    <tr style=\"text-align: right;\">\n      <th></th>\n      <th>year</th>\n      <th>month</th>\n      <th>day</th>\n      <th>Q_cms</th>\n    </tr>\n  </thead>\n  <tbody>\n    <tr>\n      <th>1</th>\n      <td>1959.0</td>\n      <td>12.00</td>\n      <td>2.00</td>\n      <td>105.000</td>\n    </tr>\n    <tr>\n      <th>2</th>\n      <td>1959.0</td>\n      <td>12.00</td>\n      <td>3.00</td>\n      <td>105.000</td>\n    </tr>\n    <tr>\n      <th>3</th>\n      <td>1959.0</td>\n      <td>12.00</td>\n      <td>4.00</td>\n      <td>92.500</td>\n    </tr>\n    <tr>\n      <th>4</th>\n      <td>1959.0</td>\n      <td>12.00</td>\n      <td>5.00</td>\n      <td>82.500</td>\n    </tr>\n    <tr>\n      <th>5</th>\n      <td>1959.0</td>\n      <td>12.00</td>\n      <td>6.00</td>\n      <td>85.000</td>\n    </tr>\n    <tr>\n      <th>...</th>\n      <td>...</td>\n      <td>...</td>\n      <td>...</td>\n      <td>...</td>\n    </tr>\n    <tr>\n      <th>22828</th>\n      <td>2022.0</td>\n      <td>5.75</td>\n      <td>8.75</td>\n      <td>104.075</td>\n    </tr>\n    <tr>\n      <th>22829</th>\n      <td>2022.0</td>\n      <td>6.00</td>\n      <td>2.00</td>\n      <td>125.750</td>\n    </tr>\n    <tr>\n      <th>22830</th>\n      <td>2022.0</td>\n      <td>6.00</td>\n      <td>3.00</td>\n      <td>143.750</td>\n    </tr>\n    <tr>\n      <th>22831</th>\n      <td>2022.0</td>\n      <td>6.00</td>\n      <td>4.00</td>\n      <td>153.500</td>\n    </tr>\n    <tr>\n      <th>22832</th>\n      <td>NaN</td>\n      <td>NaN</td>\n      <td>NaN</td>\n      <td>NaN</td>\n    </tr>\n  </tbody>\n</table>\n<p>22832 rows × 4 columns</p>\n</div>"
     },
     "execution_count": 69,
     "metadata": {},
     "output_type": "execute_result"
    }
   ],
   "source": [
    "flow_obs_to_plot"
   ],
   "metadata": {
    "collapsed": false,
    "pycharm": {
     "name": "#%%\n"
    }
   }
  },
  {
   "cell_type": "code",
   "execution_count": 68,
   "outputs": [
    {
     "data": {
      "text/plain": "pandas.core.frame.DataFrame"
     },
     "execution_count": 68,
     "metadata": {},
     "output_type": "execute_result"
    }
   ],
   "source": [
    "type(flow_obs_to_plot)"
   ],
   "metadata": {
    "collapsed": false,
    "pycharm": {
     "name": "#%%\n"
    }
   }
  },
  {
   "cell_type": "code",
   "execution_count": 12,
   "outputs": [],
   "source": [
    "flow_model = pd.read_csv(path_flow_model, sep='\\s+', header = None)\n",
    "flow_model.columns = ['year', 'month', 'day', 'Q_cms']"
   ],
   "metadata": {
    "collapsed": false,
    "pycharm": {
     "name": "#%%\n"
    }
   }
  },
  {
   "cell_type": "code",
   "execution_count": 13,
   "outputs": [],
   "source": [
    "flow_model['datetime'] = pd.to_datetime(flow_model[['year', 'month', 'day']])\n",
    "flow_model = flow_model.set_index('datetime')\n",
    "\n",
    "flow_model['datetime'] = pd.to_datetime(flow_model[['year', 'month', 'day']])"
   ],
   "metadata": {
    "collapsed": false,
    "pycharm": {
     "name": "#%%\n"
    }
   }
  },
  {
   "cell_type": "code",
   "execution_count": 14,
   "outputs": [
    {
     "data": {
      "text/plain": "            year  month  day     Q_cms   datetime  water_year water_year_str\ndatetime                                                                    \n1981-01-01  1981      1    1  293.0442 1981-01-01        1981           1981\n1981-01-02  1981      1    2  150.0163 1981-01-02        1981           1981\n1981-01-03  1981      1    3   54.5583 1981-01-03        1981           1981\n1981-01-04  1981      1    4   26.4289 1981-01-04        1981           1981\n1981-01-05  1981      1    5   15.0847 1981-01-05        1981           1981\n...          ...    ...  ...       ...        ...         ...            ...\n2015-12-27  2015     12   27    8.1309 2015-12-27        2016           2016\n2015-12-28  2015     12   28    8.1614 2015-12-28        2016           2016\n2015-12-29  2015     12   29   10.3486 2015-12-29        2016           2016\n2015-12-30  2015     12   30    8.5960 2015-12-30        2016           2016\n2015-12-31  2015     12   31    7.3509 2015-12-31        2016           2016\n\n[12783 rows x 7 columns]",
      "text/html": "<div>\n<style scoped>\n    .dataframe tbody tr th:only-of-type {\n        vertical-align: middle;\n    }\n\n    .dataframe tbody tr th {\n        vertical-align: top;\n    }\n\n    .dataframe thead th {\n        text-align: right;\n    }\n</style>\n<table border=\"1\" class=\"dataframe\">\n  <thead>\n    <tr style=\"text-align: right;\">\n      <th></th>\n      <th>year</th>\n      <th>month</th>\n      <th>day</th>\n      <th>Q_cms</th>\n      <th>datetime</th>\n      <th>water_year</th>\n      <th>water_year_str</th>\n    </tr>\n    <tr>\n      <th>datetime</th>\n      <th></th>\n      <th></th>\n      <th></th>\n      <th></th>\n      <th></th>\n      <th></th>\n      <th></th>\n    </tr>\n  </thead>\n  <tbody>\n    <tr>\n      <th>1981-01-01</th>\n      <td>1981</td>\n      <td>1</td>\n      <td>1</td>\n      <td>293.0442</td>\n      <td>1981-01-01</td>\n      <td>1981</td>\n      <td>1981</td>\n    </tr>\n    <tr>\n      <th>1981-01-02</th>\n      <td>1981</td>\n      <td>1</td>\n      <td>2</td>\n      <td>150.0163</td>\n      <td>1981-01-02</td>\n      <td>1981</td>\n      <td>1981</td>\n    </tr>\n    <tr>\n      <th>1981-01-03</th>\n      <td>1981</td>\n      <td>1</td>\n      <td>3</td>\n      <td>54.5583</td>\n      <td>1981-01-03</td>\n      <td>1981</td>\n      <td>1981</td>\n    </tr>\n    <tr>\n      <th>1981-01-04</th>\n      <td>1981</td>\n      <td>1</td>\n      <td>4</td>\n      <td>26.4289</td>\n      <td>1981-01-04</td>\n      <td>1981</td>\n      <td>1981</td>\n    </tr>\n    <tr>\n      <th>1981-01-05</th>\n      <td>1981</td>\n      <td>1</td>\n      <td>5</td>\n      <td>15.0847</td>\n      <td>1981-01-05</td>\n      <td>1981</td>\n      <td>1981</td>\n    </tr>\n    <tr>\n      <th>...</th>\n      <td>...</td>\n      <td>...</td>\n      <td>...</td>\n      <td>...</td>\n      <td>...</td>\n      <td>...</td>\n      <td>...</td>\n    </tr>\n    <tr>\n      <th>2015-12-27</th>\n      <td>2015</td>\n      <td>12</td>\n      <td>27</td>\n      <td>8.1309</td>\n      <td>2015-12-27</td>\n      <td>2016</td>\n      <td>2016</td>\n    </tr>\n    <tr>\n      <th>2015-12-28</th>\n      <td>2015</td>\n      <td>12</td>\n      <td>28</td>\n      <td>8.1614</td>\n      <td>2015-12-28</td>\n      <td>2016</td>\n      <td>2016</td>\n    </tr>\n    <tr>\n      <th>2015-12-29</th>\n      <td>2015</td>\n      <td>12</td>\n      <td>29</td>\n      <td>10.3486</td>\n      <td>2015-12-29</td>\n      <td>2016</td>\n      <td>2016</td>\n    </tr>\n    <tr>\n      <th>2015-12-30</th>\n      <td>2015</td>\n      <td>12</td>\n      <td>30</td>\n      <td>8.5960</td>\n      <td>2015-12-30</td>\n      <td>2016</td>\n      <td>2016</td>\n    </tr>\n    <tr>\n      <th>2015-12-31</th>\n      <td>2015</td>\n      <td>12</td>\n      <td>31</td>\n      <td>7.3509</td>\n      <td>2015-12-31</td>\n      <td>2016</td>\n      <td>2016</td>\n    </tr>\n  </tbody>\n</table>\n<p>12783 rows × 7 columns</p>\n</div>"
     },
     "execution_count": 14,
     "metadata": {},
     "output_type": "execute_result"
    }
   ],
   "source": [
    "#apply water year\n",
    "fc.calc_water_year_apply(flow_model)\n",
    "flow_model['water_year_str'] = flow_model['water_year'].astype(str)\n",
    "flow_model"
   ],
   "metadata": {
    "collapsed": false,
    "pycharm": {
     "name": "#%%\n"
    }
   }
  },
  {
   "cell_type": "code",
   "execution_count": 15,
   "outputs": [],
   "source": [
    "flow_model_by_wy = flow_model.groupby(['water_year_str'])\n",
    "flow_obs_by_wy = flow_obs.groupby(['water_year_str'])"
   ],
   "metadata": {
    "collapsed": false,
    "pycharm": {
     "name": "#%%\n"
    }
   }
  },
  {
   "cell_type": "code",
   "execution_count": 16,
   "outputs": [
    {
     "data": {
      "text/plain": "dict_keys(['1981', '1982', '1983', '1984', '1985', '1986', '1987', '1988', '1989', '1990', '1991', '1992', '1993', '1994', '1995', '1996', '1997', '1998', '1999', '2000', '2001', '2002', '2003', '2004', '2005', '2006', '2007', '2008', '2009', '2010', '2011', '2012', '2013', '2014', '2015', '2016'])"
     },
     "execution_count": 16,
     "metadata": {},
     "output_type": "execute_result"
    }
   ],
   "source": [
    "wy_groups = flow_model_by_wy.groups\n",
    "#wy_groups\n",
    "wy_groups.keys()"
   ],
   "metadata": {
    "collapsed": false,
    "pycharm": {
     "name": "#%%\n"
    }
   }
  },
  {
   "cell_type": "code",
   "execution_count": 17,
   "outputs": [],
   "source": [
    "model_2012 = flow_model_by_wy.get_group('2012')\n",
    "#or, get a specific year with this\n",
    "#model_flow_2011 = flow_model[flow_model['water_year'] == 1981]\n"
   ],
   "metadata": {
    "collapsed": false,
    "pycharm": {
     "name": "#%%\n"
    }
   }
  },
  {
   "cell_type": "code",
   "execution_count": 18,
   "outputs": [
    {
     "data": {
      "text/plain": "            year  month  day  Q_cms   datetime  water_year water_year_str\ndatetime                                                                 \n2011-10-01  2011     10    1  12.00 2011-10-01        2012           2012\n2011-10-02  2011     10    2  11.30 2011-10-02        2012           2012\n2011-10-03  2011     10    3  12.30 2011-10-03        2012           2012\n2011-10-04  2011     10    4  14.20 2011-10-04        2012           2012\n2011-10-05  2011     10    5  21.40 2011-10-05        2012           2012\n...          ...    ...  ...    ...        ...         ...            ...\n2012-09-26  2012      9   26   3.78 2012-09-26        2012           2012\n2012-09-27  2012      9   27   3.74 2012-09-27        2012           2012\n2012-09-28  2012      9   28   3.63 2012-09-28        2012           2012\n2012-09-29  2012      9   29   3.64 2012-09-29        2012           2012\n2012-09-30  2012      9   30   3.71 2012-09-30        2012           2012\n\n[366 rows x 7 columns]",
      "text/html": "<div>\n<style scoped>\n    .dataframe tbody tr th:only-of-type {\n        vertical-align: middle;\n    }\n\n    .dataframe tbody tr th {\n        vertical-align: top;\n    }\n\n    .dataframe thead th {\n        text-align: right;\n    }\n</style>\n<table border=\"1\" class=\"dataframe\">\n  <thead>\n    <tr style=\"text-align: right;\">\n      <th></th>\n      <th>year</th>\n      <th>month</th>\n      <th>day</th>\n      <th>Q_cms</th>\n      <th>datetime</th>\n      <th>water_year</th>\n      <th>water_year_str</th>\n    </tr>\n    <tr>\n      <th>datetime</th>\n      <th></th>\n      <th></th>\n      <th></th>\n      <th></th>\n      <th></th>\n      <th></th>\n      <th></th>\n    </tr>\n  </thead>\n  <tbody>\n    <tr>\n      <th>2011-10-01</th>\n      <td>2011</td>\n      <td>10</td>\n      <td>1</td>\n      <td>12.00</td>\n      <td>2011-10-01</td>\n      <td>2012</td>\n      <td>2012</td>\n    </tr>\n    <tr>\n      <th>2011-10-02</th>\n      <td>2011</td>\n      <td>10</td>\n      <td>2</td>\n      <td>11.30</td>\n      <td>2011-10-02</td>\n      <td>2012</td>\n      <td>2012</td>\n    </tr>\n    <tr>\n      <th>2011-10-03</th>\n      <td>2011</td>\n      <td>10</td>\n      <td>3</td>\n      <td>12.30</td>\n      <td>2011-10-03</td>\n      <td>2012</td>\n      <td>2012</td>\n    </tr>\n    <tr>\n      <th>2011-10-04</th>\n      <td>2011</td>\n      <td>10</td>\n      <td>4</td>\n      <td>14.20</td>\n      <td>2011-10-04</td>\n      <td>2012</td>\n      <td>2012</td>\n    </tr>\n    <tr>\n      <th>2011-10-05</th>\n      <td>2011</td>\n      <td>10</td>\n      <td>5</td>\n      <td>21.40</td>\n      <td>2011-10-05</td>\n      <td>2012</td>\n      <td>2012</td>\n    </tr>\n    <tr>\n      <th>...</th>\n      <td>...</td>\n      <td>...</td>\n      <td>...</td>\n      <td>...</td>\n      <td>...</td>\n      <td>...</td>\n      <td>...</td>\n    </tr>\n    <tr>\n      <th>2012-09-26</th>\n      <td>2012</td>\n      <td>9</td>\n      <td>26</td>\n      <td>3.78</td>\n      <td>2012-09-26</td>\n      <td>2012</td>\n      <td>2012</td>\n    </tr>\n    <tr>\n      <th>2012-09-27</th>\n      <td>2012</td>\n      <td>9</td>\n      <td>27</td>\n      <td>3.74</td>\n      <td>2012-09-27</td>\n      <td>2012</td>\n      <td>2012</td>\n    </tr>\n    <tr>\n      <th>2012-09-28</th>\n      <td>2012</td>\n      <td>9</td>\n      <td>28</td>\n      <td>3.63</td>\n      <td>2012-09-28</td>\n      <td>2012</td>\n      <td>2012</td>\n    </tr>\n    <tr>\n      <th>2012-09-29</th>\n      <td>2012</td>\n      <td>9</td>\n      <td>29</td>\n      <td>3.64</td>\n      <td>2012-09-29</td>\n      <td>2012</td>\n      <td>2012</td>\n    </tr>\n    <tr>\n      <th>2012-09-30</th>\n      <td>2012</td>\n      <td>9</td>\n      <td>30</td>\n      <td>3.71</td>\n      <td>2012-09-30</td>\n      <td>2012</td>\n      <td>2012</td>\n    </tr>\n  </tbody>\n</table>\n<p>366 rows × 7 columns</p>\n</div>"
     },
     "execution_count": 18,
     "metadata": {},
     "output_type": "execute_result"
    }
   ],
   "source": [
    "obs_2012 = flow_obs_by_wy.get_group('2012')\n",
    "#or, get a specific year with this\n",
    "#model_flow_2011 = flow_model[flow_model['water_year'] == 1981]\n",
    "obs_2012\n"
   ],
   "metadata": {
    "collapsed": false,
    "pycharm": {
     "name": "#%%\n"
    }
   }
  },
  {
   "cell_type": "code",
   "execution_count": 19,
   "outputs": [
    {
     "data": {
      "text/plain": "0.48930157154117193"
     },
     "execution_count": 19,
     "metadata": {},
     "output_type": "execute_result"
    }
   ],
   "source": [
    "nse_test = fc.nse(model_2012['Q_cms'], obs_2012['Q_cms'])\n",
    "nse_test"
   ],
   "metadata": {
    "collapsed": false,
    "pycharm": {
     "name": "#%%\n"
    }
   }
  },
  {
   "cell_type": "code",
   "execution_count": 49,
   "outputs": [
    {
     "data": {
      "text/plain": "<Figure size 432x288 with 1 Axes>",
      "image/png": "[encoded data removed]"
     },
     "metadata": {
      "needs_background": "light"
     },
     "output_type": "display_data"
    }
   ],
   "source": [
    "#initialize list\n",
    "nse = []\n",
    "year = []\n",
    "for group in flow_obs_by_wy:\n",
    "    for gr in flow_model_by_wy:\n",
    "        if group[0]==gr[0]:\n",
    "            nse_test = fc.nse(gr[1].Q_cms, group[1].Q_cms)\n",
    "            gr[1].Q_cms.plot()\n",
    "            year.append(group[0])\n",
    "            nse.append(nse_test)\n",
    "            #nse(0) = gr[0]\n",
    "            #nse(1) = nse_test\n",
    "nse_run = dict(zip(year, nse))"
   ],
   "metadata": {
    "collapsed": false,
    "pycharm": {
     "name": "#%%\n"
    }
   }
  },
  {
   "cell_type": "code",
   "execution_count": 47,
   "outputs": [
    {
     "data": {
      "text/plain": "{'1981': 0.8402541835197412,\n '1982': 0.5286291052808738,\n '1983': 0.7016799281597919,\n '1984': 0.7988162949747949,\n '1985': 0.4287479006656687,\n '1986': 0.7071633873837162,\n '1987': 0.7951986703851903,\n '1988': 0.5321582779440033,\n '1989': 0.6292894560521705,\n '1990': 0.5720342291346088,\n '1991': 0.5744185738528943,\n '1992': 0.5856670070118106,\n '1993': 0.5476666694453621,\n '1994': 0.4874486022535852,\n '1995': 0.6085688830623861,\n '1996': 0.5009628694179389,\n '1997': 0.3524360178368272,\n '1998': 0.5025401956481181,\n '1999': 0.541655296927573,\n '2000': 0.69307644264811,\n '2001': 0.519153271307301,\n '2002': 0.6695686019934726,\n '2003': 0.6380313784077992,\n '2004': 0.42197707358029046,\n '2005': 0.5476646306811702,\n '2006': 0.5195843348492722,\n '2007': 0.7472362383256288,\n '2008': 0.5829829346529684,\n '2009': 0.7520624419558526,\n '2010': 0.471549915159556,\n '2011': 0.5581562973245633,\n '2012': 0.48930157154117193,\n '2013': 0.3929725497765534,\n '2014': 0.555285864721327,\n '2015': 0.6691765867602313,\n '2016': 0.6729266005820667}"
     },
     "execution_count": 47,
     "metadata": {},
     "output_type": "execute_result"
    }
   ],
   "source": [
    "nse_run"
   ],
   "metadata": {
    "collapsed": false,
    "pycharm": {
     "name": "#%%\n"
    }
   }
  },
  {
   "cell_type": "code",
   "execution_count": 52,
   "outputs": [
    {
     "data": {
      "text/plain": "            year  month  day     Q_cms   datetime  water_year water_year_str\ndatetime                                                                    \n1981-01-01  1981      1    1  293.0442 1981-01-01        1981           1981\n1981-01-02  1981      1    2  150.0163 1981-01-02        1981           1981\n1981-01-03  1981      1    3   54.5583 1981-01-03        1981           1981\n1981-01-04  1981      1    4   26.4289 1981-01-04        1981           1981\n1981-01-05  1981      1    5   15.0847 1981-01-05        1981           1981\n...          ...    ...  ...       ...        ...         ...            ...\n2015-12-27  2015     12   27    8.1309 2015-12-27        2016           2016\n2015-12-28  2015     12   28    8.1614 2015-12-28        2016           2016\n2015-12-29  2015     12   29   10.3486 2015-12-29        2016           2016\n2015-12-30  2015     12   30    8.5960 2015-12-30        2016           2016\n2015-12-31  2015     12   31    7.3509 2015-12-31        2016           2016\n\n[12783 rows x 7 columns]",
      "text/html": "<div>\n<style scoped>\n    .dataframe tbody tr th:only-of-type {\n        vertical-align: middle;\n    }\n\n    .dataframe tbody tr th {\n        vertical-align: top;\n    }\n\n    .dataframe thead th {\n        text-align: right;\n    }\n</style>\n<table border=\"1\" class=\"dataframe\">\n  <thead>\n    <tr style=\"text-align: right;\">\n      <th></th>\n      <th>year</th>\n      <th>month</th>\n      <th>day</th>\n      <th>Q_cms</th>\n      <th>datetime</th>\n      <th>water_year</th>\n      <th>water_year_str</th>\n    </tr>\n    <tr>\n      <th>datetime</th>\n      <th></th>\n      <th></th>\n      <th></th>\n      <th></th>\n      <th></th>\n      <th></th>\n      <th></th>\n    </tr>\n  </thead>\n  <tbody>\n    <tr>\n      <th>1981-01-01</th>\n      <td>1981</td>\n      <td>1</td>\n      <td>1</td>\n      <td>293.0442</td>\n      <td>1981-01-01</td>\n      <td>1981</td>\n      <td>1981</td>\n    </tr>\n    <tr>\n      <th>1981-01-02</th>\n      <td>1981</td>\n      <td>1</td>\n      <td>2</td>\n      <td>150.0163</td>\n      <td>1981-01-02</td>\n      <td>1981</td>\n      <td>1981</td>\n    </tr>\n    <tr>\n      <th>1981-01-03</th>\n      <td>1981</td>\n      <td>1</td>\n      <td>3</td>\n      <td>54.5583</td>\n      <td>1981-01-03</td>\n      <td>1981</td>\n      <td>1981</td>\n    </tr>\n    <tr>\n      <th>1981-01-04</th>\n      <td>1981</td>\n      <td>1</td>\n      <td>4</td>\n      <td>26.4289</td>\n      <td>1981-01-04</td>\n      <td>1981</td>\n      <td>1981</td>\n    </tr>\n    <tr>\n      <th>1981-01-05</th>\n      <td>1981</td>\n      <td>1</td>\n      <td>5</td>\n      <td>15.0847</td>\n      <td>1981-01-05</td>\n      <td>1981</td>\n      <td>1981</td>\n    </tr>\n    <tr>\n      <th>...</th>\n      <td>...</td>\n      <td>...</td>\n      <td>...</td>\n      <td>...</td>\n      <td>...</td>\n      <td>...</td>\n      <td>...</td>\n    </tr>\n    <tr>\n      <th>2015-12-27</th>\n      <td>2015</td>\n      <td>12</td>\n      <td>27</td>\n      <td>8.1309</td>\n      <td>2015-12-27</td>\n      <td>2016</td>\n      <td>2016</td>\n    </tr>\n    <tr>\n      <th>2015-12-28</th>\n      <td>2015</td>\n      <td>12</td>\n      <td>28</td>\n      <td>8.1614</td>\n      <td>2015-12-28</td>\n      <td>2016</td>\n      <td>2016</td>\n    </tr>\n    <tr>\n      <th>2015-12-29</th>\n      <td>2015</td>\n      <td>12</td>\n      <td>29</td>\n      <td>10.3486</td>\n      <td>2015-12-29</td>\n      <td>2016</td>\n      <td>2016</td>\n    </tr>\n    <tr>\n      <th>2015-12-30</th>\n      <td>2015</td>\n      <td>12</td>\n      <td>30</td>\n      <td>8.5960</td>\n      <td>2015-12-30</td>\n      <td>2016</td>\n      <td>2016</td>\n    </tr>\n    <tr>\n      <th>2015-12-31</th>\n      <td>2015</td>\n      <td>12</td>\n      <td>31</td>\n      <td>7.3509</td>\n      <td>2015-12-31</td>\n      <td>2016</td>\n      <td>2016</td>\n    </tr>\n  </tbody>\n</table>\n<p>12783 rows × 7 columns</p>\n</div>"
     },
     "execution_count": 52,
     "metadata": {},
     "output_type": "execute_result"
    }
   ],
   "source": [
    "flow_model"
   ],
   "metadata": {
    "collapsed": false,
    "pycharm": {
     "name": "#%%\n"
    }
   }
  },
  {
   "cell_type": "code",
   "execution_count": 58,
   "outputs": [
    {
     "data": {
      "text/plain": "            year  month        day      Q_cms  water_year\ndatetime                                                 \n1         1998.0    1.0  16.000000  58.744221      1998.0\n2         1998.0    2.0  14.617409  43.539496      1998.0\n3         1998.0    3.0  16.000000  49.916095      1998.0\n4         1998.0    4.0  15.500000  40.849832      1998.0\n5         1998.0    5.0  16.000000  62.381640      1998.0\n6         1998.0    6.0  15.500000  63.778767      1998.0\n7         1998.0    7.0  16.000000  37.044614      1998.0\n8         1998.0    8.0  16.000000  17.022378      1998.0\n9         1998.0    9.0  15.500000  20.956174      1998.0\n10        1998.0   10.0  16.000000  46.138311      1999.0\n11        1998.0   11.0  15.500000  83.978888      1999.0\n12        1998.0   12.0  16.000000  47.196500      1999.0",
      "text/html": "<div>\n<style scoped>\n    .dataframe tbody tr th:only-of-type {\n        vertical-align: middle;\n    }\n\n    .dataframe tbody tr th {\n        vertical-align: top;\n    }\n\n    .dataframe thead th {\n        text-align: right;\n    }\n</style>\n<table border=\"1\" class=\"dataframe\">\n  <thead>\n    <tr style=\"text-align: right;\">\n      <th></th>\n      <th>year</th>\n      <th>month</th>\n      <th>day</th>\n      <th>Q_cms</th>\n      <th>water_year</th>\n    </tr>\n    <tr>\n      <th>datetime</th>\n      <th></th>\n      <th></th>\n      <th></th>\n      <th></th>\n      <th></th>\n    </tr>\n  </thead>\n  <tbody>\n    <tr>\n      <th>1</th>\n      <td>1998.0</td>\n      <td>1.0</td>\n      <td>16.000000</td>\n      <td>58.744221</td>\n      <td>1998.0</td>\n    </tr>\n    <tr>\n      <th>2</th>\n      <td>1998.0</td>\n      <td>2.0</td>\n      <td>14.617409</td>\n      <td>43.539496</td>\n      <td>1998.0</td>\n    </tr>\n    <tr>\n      <th>3</th>\n      <td>1998.0</td>\n      <td>3.0</td>\n      <td>16.000000</td>\n      <td>49.916095</td>\n      <td>1998.0</td>\n    </tr>\n    <tr>\n      <th>4</th>\n      <td>1998.0</td>\n      <td>4.0</td>\n      <td>15.500000</td>\n      <td>40.849832</td>\n      <td>1998.0</td>\n    </tr>\n    <tr>\n      <th>5</th>\n      <td>1998.0</td>\n      <td>5.0</td>\n      <td>16.000000</td>\n      <td>62.381640</td>\n      <td>1998.0</td>\n    </tr>\n    <tr>\n      <th>6</th>\n      <td>1998.0</td>\n      <td>6.0</td>\n      <td>15.500000</td>\n      <td>63.778767</td>\n      <td>1998.0</td>\n    </tr>\n    <tr>\n      <th>7</th>\n      <td>1998.0</td>\n      <td>7.0</td>\n      <td>16.000000</td>\n      <td>37.044614</td>\n      <td>1998.0</td>\n    </tr>\n    <tr>\n      <th>8</th>\n      <td>1998.0</td>\n      <td>8.0</td>\n      <td>16.000000</td>\n      <td>17.022378</td>\n      <td>1998.0</td>\n    </tr>\n    <tr>\n      <th>9</th>\n      <td>1998.0</td>\n      <td>9.0</td>\n      <td>15.500000</td>\n      <td>20.956174</td>\n      <td>1998.0</td>\n    </tr>\n    <tr>\n      <th>10</th>\n      <td>1998.0</td>\n      <td>10.0</td>\n      <td>16.000000</td>\n      <td>46.138311</td>\n      <td>1999.0</td>\n    </tr>\n    <tr>\n      <th>11</th>\n      <td>1998.0</td>\n      <td>11.0</td>\n      <td>15.500000</td>\n      <td>83.978888</td>\n      <td>1999.0</td>\n    </tr>\n    <tr>\n      <th>12</th>\n      <td>1998.0</td>\n      <td>12.0</td>\n      <td>16.000000</td>\n      <td>47.196500</td>\n      <td>1999.0</td>\n    </tr>\n  </tbody>\n</table>\n</div>"
     },
     "execution_count": 58,
     "metadata": {},
     "output_type": "execute_result"
    }
   ],
   "source": [
    "test = flow_model.resample('M').mean()\n",
    "multi_month_mean = flow_model.groupby(flow_model.index.month).mean()\n",
    "multi_month_mean"
   ],
   "metadata": {
    "collapsed": false,
    "pycharm": {
     "name": "#%%\n"
    }
   }
  },
  {
   "cell_type": "code",
   "execution_count": 49,
   "outputs": [],
   "source": [],
   "metadata": {
    "collapsed": false,
    "pycharm": {
     "name": "#%%\n"
    }
   }
  },
  {
   "cell_type": "code",
   "execution_count": 53,
   "outputs": [
    {
     "ename": "KeyError",
     "evalue": "'datetime'",
     "output_type": "error",
     "traceback": [
      "\u001B[0;31m---------------------------------------------------------------------------\u001B[0m",
      "\u001B[0;31mKeyError\u001B[0m                                  Traceback (most recent call last)",
      "File \u001B[0;32m/opt/homebrew/Caskroom/miniforge/base/envs/snowSCL/lib/python3.8/site-packages/pandas/core/indexes/base.py:3621\u001B[0m, in \u001B[0;36mIndex.get_loc\u001B[0;34m(self, key, method, tolerance)\u001B[0m\n\u001B[1;32m   3620\u001B[0m \u001B[38;5;28;01mtry\u001B[39;00m:\n\u001B[0;32m-> 3621\u001B[0m     \u001B[38;5;28;01mreturn\u001B[39;00m \u001B[38;5;28;43mself\u001B[39;49m\u001B[38;5;241;43m.\u001B[39;49m\u001B[43m_engine\u001B[49m\u001B[38;5;241;43m.\u001B[39;49m\u001B[43mget_loc\u001B[49m\u001B[43m(\u001B[49m\u001B[43mcasted_key\u001B[49m\u001B[43m)\u001B[49m\n\u001B[1;32m   3622\u001B[0m \u001B[38;5;28;01mexcept\u001B[39;00m \u001B[38;5;167;01mKeyError\u001B[39;00m \u001B[38;5;28;01mas\u001B[39;00m err:\n",
      "File \u001B[0;32m/opt/homebrew/Caskroom/miniforge/base/envs/snowSCL/lib/python3.8/site-packages/pandas/_libs/index.pyx:136\u001B[0m, in \u001B[0;36mpandas._libs.index.IndexEngine.get_loc\u001B[0;34m()\u001B[0m\n",
      "File \u001B[0;32m/opt/homebrew/Caskroom/miniforge/base/envs/snowSCL/lib/python3.8/site-packages/pandas/_libs/index.pyx:163\u001B[0m, in \u001B[0;36mpandas._libs.index.IndexEngine.get_loc\u001B[0;34m()\u001B[0m\n",
      "File \u001B[0;32mpandas/_libs/hashtable_class_helper.pxi:5198\u001B[0m, in \u001B[0;36mpandas._libs.hashtable.PyObjectHashTable.get_item\u001B[0;34m()\u001B[0m\n",
      "File \u001B[0;32mpandas/_libs/hashtable_class_helper.pxi:5206\u001B[0m, in \u001B[0;36mpandas._libs.hashtable.PyObjectHashTable.get_item\u001B[0;34m()\u001B[0m\n",
      "\u001B[0;31mKeyError\u001B[0m: 'datetime'",
      "\nThe above exception was the direct cause of the following exception:\n",
      "\u001B[0;31mKeyError\u001B[0m                                  Traceback (most recent call last)",
      "Input \u001B[0;32mIn [53]\u001B[0m, in \u001B[0;36m<cell line: 3>\u001B[0;34m()\u001B[0m\n\u001B[1;32m      1\u001B[0m \u001B[38;5;66;03m#calculate monthly flows\u001B[39;00m\n\u001B[1;32m      2\u001B[0m flow_model_month \u001B[38;5;241m=\u001B[39m flow_model\u001B[38;5;241m.\u001B[39mgroupby(pd\u001B[38;5;241m.\u001B[39mPeriodIndex(flow_model[\u001B[38;5;124m'\u001B[39m\u001B[38;5;124mdatetime\u001B[39m\u001B[38;5;124m'\u001B[39m], freq\u001B[38;5;241m=\u001B[39m\u001B[38;5;124m\"\u001B[39m\u001B[38;5;124mM\u001B[39m\u001B[38;5;124m\"\u001B[39m))[\u001B[38;5;124m'\u001B[39m\u001B[38;5;124mQ_cms\u001B[39m\u001B[38;5;124m'\u001B[39m]\u001B[38;5;241m.\u001B[39mmean()\n\u001B[0;32m----> 3\u001B[0m flow_obs_month \u001B[38;5;241m=\u001B[39m flow_obs\u001B[38;5;241m.\u001B[39mgroupby(pd\u001B[38;5;241m.\u001B[39mPeriodIndex(\u001B[43mflow_obs\u001B[49m\u001B[43m[\u001B[49m\u001B[38;5;124;43m'\u001B[39;49m\u001B[38;5;124;43mdatetime\u001B[39;49m\u001B[38;5;124;43m'\u001B[39;49m\u001B[43m]\u001B[49m, freq\u001B[38;5;241m=\u001B[39m\u001B[38;5;124m\"\u001B[39m\u001B[38;5;124mM\u001B[39m\u001B[38;5;124m\"\u001B[39m))[\u001B[38;5;124m'\u001B[39m\u001B[38;5;124mQ_cms\u001B[39m\u001B[38;5;124m'\u001B[39m]\u001B[38;5;241m.\u001B[39mmean()\n",
      "File \u001B[0;32m/opt/homebrew/Caskroom/miniforge/base/envs/snowSCL/lib/python3.8/site-packages/pandas/core/frame.py:3505\u001B[0m, in \u001B[0;36mDataFrame.__getitem__\u001B[0;34m(self, key)\u001B[0m\n\u001B[1;32m   3503\u001B[0m \u001B[38;5;28;01mif\u001B[39;00m \u001B[38;5;28mself\u001B[39m\u001B[38;5;241m.\u001B[39mcolumns\u001B[38;5;241m.\u001B[39mnlevels \u001B[38;5;241m>\u001B[39m \u001B[38;5;241m1\u001B[39m:\n\u001B[1;32m   3504\u001B[0m     \u001B[38;5;28;01mreturn\u001B[39;00m \u001B[38;5;28mself\u001B[39m\u001B[38;5;241m.\u001B[39m_getitem_multilevel(key)\n\u001B[0;32m-> 3505\u001B[0m indexer \u001B[38;5;241m=\u001B[39m \u001B[38;5;28;43mself\u001B[39;49m\u001B[38;5;241;43m.\u001B[39;49m\u001B[43mcolumns\u001B[49m\u001B[38;5;241;43m.\u001B[39;49m\u001B[43mget_loc\u001B[49m\u001B[43m(\u001B[49m\u001B[43mkey\u001B[49m\u001B[43m)\u001B[49m\n\u001B[1;32m   3506\u001B[0m \u001B[38;5;28;01mif\u001B[39;00m is_integer(indexer):\n\u001B[1;32m   3507\u001B[0m     indexer \u001B[38;5;241m=\u001B[39m [indexer]\n",
      "File \u001B[0;32m/opt/homebrew/Caskroom/miniforge/base/envs/snowSCL/lib/python3.8/site-packages/pandas/core/indexes/base.py:3623\u001B[0m, in \u001B[0;36mIndex.get_loc\u001B[0;34m(self, key, method, tolerance)\u001B[0m\n\u001B[1;32m   3621\u001B[0m     \u001B[38;5;28;01mreturn\u001B[39;00m \u001B[38;5;28mself\u001B[39m\u001B[38;5;241m.\u001B[39m_engine\u001B[38;5;241m.\u001B[39mget_loc(casted_key)\n\u001B[1;32m   3622\u001B[0m \u001B[38;5;28;01mexcept\u001B[39;00m \u001B[38;5;167;01mKeyError\u001B[39;00m \u001B[38;5;28;01mas\u001B[39;00m err:\n\u001B[0;32m-> 3623\u001B[0m     \u001B[38;5;28;01mraise\u001B[39;00m \u001B[38;5;167;01mKeyError\u001B[39;00m(key) \u001B[38;5;28;01mfrom\u001B[39;00m \u001B[38;5;21;01merr\u001B[39;00m\n\u001B[1;32m   3624\u001B[0m \u001B[38;5;28;01mexcept\u001B[39;00m \u001B[38;5;167;01mTypeError\u001B[39;00m:\n\u001B[1;32m   3625\u001B[0m     \u001B[38;5;66;03m# If we have a listlike key, _check_indexing_error will raise\u001B[39;00m\n\u001B[1;32m   3626\u001B[0m     \u001B[38;5;66;03m#  InvalidIndexError. Otherwise we fall through and re-raise\u001B[39;00m\n\u001B[1;32m   3627\u001B[0m     \u001B[38;5;66;03m#  the TypeError.\u001B[39;00m\n\u001B[1;32m   3628\u001B[0m     \u001B[38;5;28mself\u001B[39m\u001B[38;5;241m.\u001B[39m_check_indexing_error(key)\n",
      "\u001B[0;31mKeyError\u001B[0m: 'datetime'"
     ]
    }
   ],
   "source": [
    "#calculate monthly flows\n",
    "flow_model_month = flow_model.groupby(pd.PeriodIndex(flow_model['datetime'], freq=\"M\"))['Q_cms'].mean()\n",
    "flow_obs_month = flow_obs.groupby(pd.PeriodIndex(flow_obs['datetime'], freq=\"M\"))['Q_cms'].mean()"
   ],
   "metadata": {
    "collapsed": false,
    "pycharm": {
     "name": "#%%\n"
    }
   }
  },
  {
   "cell_type": "code",
   "execution_count": 50,
   "outputs": [
    {
     "ename": "NameError",
     "evalue": "name 'flow_model_month' is not defined",
     "output_type": "error",
     "traceback": [
      "\u001B[0;31m---------------------------------------------------------------------------\u001B[0m",
      "\u001B[0;31mNameError\u001B[0m                                 Traceback (most recent call last)",
      "Input \u001B[0;32mIn [50]\u001B[0m, in \u001B[0;36m<cell line: 2>\u001B[0;34m()\u001B[0m\n\u001B[1;32m      1\u001B[0m \u001B[38;5;66;03m#plot modeled SWE vs. observed at Skookum Creek\u001B[39;00m\n\u001B[0;32m----> 2\u001B[0m ax \u001B[38;5;241m=\u001B[39m \u001B[43mflow_model_month\u001B[49m\u001B[38;5;241m.\u001B[39mplot(kind\u001B[38;5;241m=\u001B[39m\u001B[38;5;124m'\u001B[39m\u001B[38;5;124mline\u001B[39m\u001B[38;5;124m'\u001B[39m,  y \u001B[38;5;241m=\u001B[39m \u001B[38;5;124m'\u001B[39m\u001B[38;5;124mQ_cms\u001B[39m\u001B[38;5;124m'\u001B[39m, label \u001B[38;5;241m=\u001B[39m \u001B[38;5;124m'\u001B[39m\u001B[38;5;124mmodel Q\u001B[39m\u001B[38;5;124m'\u001B[39m)\n\u001B[1;32m      3\u001B[0m flow_obs_month\u001B[38;5;241m.\u001B[39mplot(kind\u001B[38;5;241m=\u001B[39m\u001B[38;5;124m'\u001B[39m\u001B[38;5;124mline\u001B[39m\u001B[38;5;124m'\u001B[39m,  y \u001B[38;5;241m=\u001B[39m \u001B[38;5;124m'\u001B[39m\u001B[38;5;124mQ_cms\u001B[39m\u001B[38;5;124m'\u001B[39m, label \u001B[38;5;241m=\u001B[39m \u001B[38;5;124m'\u001B[39m\u001B[38;5;124mobs Q\u001B[39m\u001B[38;5;124m'\u001B[39m, ax \u001B[38;5;241m=\u001B[39m ax)\n\u001B[1;32m      4\u001B[0m ax\u001B[38;5;241m.\u001B[39mset_xlim([datetime(\u001B[38;5;241m1996\u001B[39m, \u001B[38;5;241m1\u001B[39m, \u001B[38;5;241m21\u001B[39m), datetime(\u001B[38;5;241m2011\u001B[39m, \u001B[38;5;241m12\u001B[39m, \u001B[38;5;241m1\u001B[39m)])\n",
      "\u001B[0;31mNameError\u001B[0m: name 'flow_model_month' is not defined"
     ]
    }
   ],
   "source": [
    "#plot modeled SWE vs. observed at Skookum Creek\n",
    "ax = flow_model_month.plot(kind='line',  y = 'Q_cms', label = 'model Q')\n",
    "flow_obs_month.plot(kind='line',  y = 'Q_cms', label = 'obs Q', ax = ax)\n",
    "ax.set_xlim([datetime(1996, 1, 21), datetime(2011, 12, 1)])\n",
    "plt.xlabel('Time')\n",
    "plt.ylabel('SWE [in]')"
   ],
   "metadata": {
    "collapsed": false,
    "pycharm": {
     "name": "#%%\n"
    }
   }
  },
  {
   "cell_type": "code",
   "execution_count": null,
   "outputs": [],
   "source": [],
   "metadata": {
    "collapsed": false,
    "pycharm": {
     "name": "#%%\n"
    }
   }
  },
  {
   "cell_type": "code",
   "execution_count": null,
   "outputs": [],
   "source": [],
   "metadata": {
    "collapsed": false,
    "pycharm": {
     "name": "#%%\n"
    }
   }
  }
 ],
 "metadata": {
  "kernelspec": {
   "name": "snowscl",
   "language": "python",
   "display_name": "snowSCL"
  },
  "language_info": {
   "codemirror_mode": {
    "name": "ipython",
    "version": 2
   },
   "file_extension": ".py",
   "mimetype": "text/x-python",
   "name": "python",
   "nbconvert_exporter": "python",
   "pygments_lexer": "ipython2",
   "version": "2.7.6"
  }
 },
 "nbformat": 4,
 "nbformat_minor": 0
}