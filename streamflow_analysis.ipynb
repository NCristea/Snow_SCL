{
 "cells": [
  {
   "cell_type": "code",
   "execution_count": null,
   "metadata": {
    "collapsed": true,
    "pycharm": {
     "name": "#%%\n"
    }
   },
   "outputs": [],
   "source": [
    "%reset"
   ]
  },
  {
   "cell_type": "code",
   "execution_count": 1,
   "outputs": [],
   "source": [
    "import numpy as np\n",
    "import pandas as pd"
   ],
   "metadata": {
    "collapsed": false,
    "pycharm": {
     "name": "#%%\n"
    }
   }
  },
  {
   "cell_type": "code",
   "execution_count": 2,
   "outputs": [],
   "source": [
    "import os\n",
    "#set path for root directory\n",
    "ROOT_DIR = os.path.abspath(os.curdir)"
   ],
   "metadata": {
    "collapsed": false,
    "pycharm": {
     "name": "#%%\n"
    }
   }
  },
  {
   "cell_type": "code",
   "execution_count": 3,
   "outputs": [],
   "source": [
    "%reload_ext autoreload\n",
    "%autoreload 1"
   ],
   "metadata": {
    "collapsed": false,
    "pycharm": {
     "name": "#%%\n"
    }
   }
  },
  {
   "cell_type": "code",
   "execution_count": 4,
   "outputs": [],
   "source": [
    "from hydroplotting import funcutils as fc"
   ],
   "metadata": {
    "collapsed": false,
    "pycharm": {
     "name": "#%%\n"
    }
   }
  },
  {
   "cell_type": "code",
   "execution_count": 5,
   "outputs": [],
   "source": [
    "#read in data\n",
    "path_flow_obs = ROOT_DIR + '/Data/Raw/12147600_ref.csv'\n",
    "path_flow_model = ROOT_DIR + '/Data/Raw/12147600_sim.day'\n"
   ],
   "metadata": {
    "collapsed": false,
    "pycharm": {
     "name": "#%%\n"
    }
   }
  },
  {
   "cell_type": "code",
   "execution_count": 6,
   "outputs": [
    {
     "data": {
      "text/plain": "       year  month  day  Q_cms\n0      1959     12    1   90.0\n1      1959     12    2  110.0\n2      1959     12    3  110.0\n3      1959     12    4   90.0\n4      1959     12    5   80.0\n...     ...    ...  ...    ...\n22828  2022      6    1  104.0\n22829  2022      6    2  119.0\n22830  2022      6    3  161.0\n22831  2022      6    4  134.0\n22832  2022      6    5  185.0\n\n[22833 rows x 4 columns]",
      "text/html": "<div>\n<style scoped>\n    .dataframe tbody tr th:only-of-type {\n        vertical-align: middle;\n    }\n\n    .dataframe tbody tr th {\n        vertical-align: top;\n    }\n\n    .dataframe thead th {\n        text-align: right;\n    }\n</style>\n<table border=\"1\" class=\"dataframe\">\n  <thead>\n    <tr style=\"text-align: right;\">\n      <th></th>\n      <th>year</th>\n      <th>month</th>\n      <th>day</th>\n      <th>Q_cms</th>\n    </tr>\n  </thead>\n  <tbody>\n    <tr>\n      <th>0</th>\n      <td>1959</td>\n      <td>12</td>\n      <td>1</td>\n      <td>90.0</td>\n    </tr>\n    <tr>\n      <th>1</th>\n      <td>1959</td>\n      <td>12</td>\n      <td>2</td>\n      <td>110.0</td>\n    </tr>\n    <tr>\n      <th>2</th>\n      <td>1959</td>\n      <td>12</td>\n      <td>3</td>\n      <td>110.0</td>\n    </tr>\n    <tr>\n      <th>3</th>\n      <td>1959</td>\n      <td>12</td>\n      <td>4</td>\n      <td>90.0</td>\n    </tr>\n    <tr>\n      <th>4</th>\n      <td>1959</td>\n      <td>12</td>\n      <td>5</td>\n      <td>80.0</td>\n    </tr>\n    <tr>\n      <th>...</th>\n      <td>...</td>\n      <td>...</td>\n      <td>...</td>\n      <td>...</td>\n    </tr>\n    <tr>\n      <th>22828</th>\n      <td>2022</td>\n      <td>6</td>\n      <td>1</td>\n      <td>104.0</td>\n    </tr>\n    <tr>\n      <th>22829</th>\n      <td>2022</td>\n      <td>6</td>\n      <td>2</td>\n      <td>119.0</td>\n    </tr>\n    <tr>\n      <th>22830</th>\n      <td>2022</td>\n      <td>6</td>\n      <td>3</td>\n      <td>161.0</td>\n    </tr>\n    <tr>\n      <th>22831</th>\n      <td>2022</td>\n      <td>6</td>\n      <td>4</td>\n      <td>134.0</td>\n    </tr>\n    <tr>\n      <th>22832</th>\n      <td>2022</td>\n      <td>6</td>\n      <td>5</td>\n      <td>185.0</td>\n    </tr>\n  </tbody>\n</table>\n<p>22833 rows × 4 columns</p>\n</div>"
     },
     "execution_count": 6,
     "metadata": {},
     "output_type": "execute_result"
    }
   ],
   "source": [
    "flow_obs = pd.read_csv(path_flow_obs,  header = None)\n",
    "flow_obs.columns = ['year', 'month', 'day', 'Q_cms']\n",
    "flow_obs\n"
   ],
   "metadata": {
    "collapsed": false,
    "pycharm": {
     "name": "#%%\n"
    }
   }
  },
  {
   "cell_type": "code",
   "execution_count": 7,
   "outputs": [
    {
     "data": {
      "text/plain": "            year  month  day  Q_cms   datetime  water_year water_year_str\ndatetime                                                                 \n1959-12-01  1959     12    1   90.0 1959-12-01        1960           1960\n1959-12-02  1959     12    2  110.0 1959-12-02        1960           1960\n1959-12-03  1959     12    3  110.0 1959-12-03        1960           1960\n1959-12-04  1959     12    4   90.0 1959-12-04        1960           1960\n1959-12-05  1959     12    5   80.0 1959-12-05        1960           1960\n...          ...    ...  ...    ...        ...         ...            ...\n2022-06-01  2022      6    1  104.0 2022-06-01        2022           2022\n2022-06-02  2022      6    2  119.0 2022-06-02        2022           2022\n2022-06-03  2022      6    3  161.0 2022-06-03        2022           2022\n2022-06-04  2022      6    4  134.0 2022-06-04        2022           2022\n2022-06-05  2022      6    5  185.0 2022-06-05        2022           2022\n\n[22833 rows x 7 columns]",
      "text/html": "<div>\n<style scoped>\n    .dataframe tbody tr th:only-of-type {\n        vertical-align: middle;\n    }\n\n    .dataframe tbody tr th {\n        vertical-align: top;\n    }\n\n    .dataframe thead th {\n        text-align: right;\n    }\n</style>\n<table border=\"1\" class=\"dataframe\">\n  <thead>\n    <tr style=\"text-align: right;\">\n      <th></th>\n      <th>year</th>\n      <th>month</th>\n      <th>day</th>\n      <th>Q_cms</th>\n      <th>datetime</th>\n      <th>water_year</th>\n      <th>water_year_str</th>\n    </tr>\n    <tr>\n      <th>datetime</th>\n      <th></th>\n      <th></th>\n      <th></th>\n      <th></th>\n      <th></th>\n      <th></th>\n      <th></th>\n    </tr>\n  </thead>\n  <tbody>\n    <tr>\n      <th>1959-12-01</th>\n      <td>1959</td>\n      <td>12</td>\n      <td>1</td>\n      <td>90.0</td>\n      <td>1959-12-01</td>\n      <td>1960</td>\n      <td>1960</td>\n    </tr>\n    <tr>\n      <th>1959-12-02</th>\n      <td>1959</td>\n      <td>12</td>\n      <td>2</td>\n      <td>110.0</td>\n      <td>1959-12-02</td>\n      <td>1960</td>\n      <td>1960</td>\n    </tr>\n    <tr>\n      <th>1959-12-03</th>\n      <td>1959</td>\n      <td>12</td>\n      <td>3</td>\n      <td>110.0</td>\n      <td>1959-12-03</td>\n      <td>1960</td>\n      <td>1960</td>\n    </tr>\n    <tr>\n      <th>1959-12-04</th>\n      <td>1959</td>\n      <td>12</td>\n      <td>4</td>\n      <td>90.0</td>\n      <td>1959-12-04</td>\n      <td>1960</td>\n      <td>1960</td>\n    </tr>\n    <tr>\n      <th>1959-12-05</th>\n      <td>1959</td>\n      <td>12</td>\n      <td>5</td>\n      <td>80.0</td>\n      <td>1959-12-05</td>\n      <td>1960</td>\n      <td>1960</td>\n    </tr>\n    <tr>\n      <th>...</th>\n      <td>...</td>\n      <td>...</td>\n      <td>...</td>\n      <td>...</td>\n      <td>...</td>\n      <td>...</td>\n      <td>...</td>\n    </tr>\n    <tr>\n      <th>2022-06-01</th>\n      <td>2022</td>\n      <td>6</td>\n      <td>1</td>\n      <td>104.0</td>\n      <td>2022-06-01</td>\n      <td>2022</td>\n      <td>2022</td>\n    </tr>\n    <tr>\n      <th>2022-06-02</th>\n      <td>2022</td>\n      <td>6</td>\n      <td>2</td>\n      <td>119.0</td>\n      <td>2022-06-02</td>\n      <td>2022</td>\n      <td>2022</td>\n    </tr>\n    <tr>\n      <th>2022-06-03</th>\n      <td>2022</td>\n      <td>6</td>\n      <td>3</td>\n      <td>161.0</td>\n      <td>2022-06-03</td>\n      <td>2022</td>\n      <td>2022</td>\n    </tr>\n    <tr>\n      <th>2022-06-04</th>\n      <td>2022</td>\n      <td>6</td>\n      <td>4</td>\n      <td>134.0</td>\n      <td>2022-06-04</td>\n      <td>2022</td>\n      <td>2022</td>\n    </tr>\n    <tr>\n      <th>2022-06-05</th>\n      <td>2022</td>\n      <td>6</td>\n      <td>5</td>\n      <td>185.0</td>\n      <td>2022-06-05</td>\n      <td>2022</td>\n      <td>2022</td>\n    </tr>\n  </tbody>\n</table>\n<p>22833 rows × 7 columns</p>\n</div>"
     },
     "execution_count": 7,
     "metadata": {},
     "output_type": "execute_result"
    }
   ],
   "source": [
    "flow_obs['datetime'] = pd.to_datetime(flow_obs[['year', 'month', 'day']])\n",
    "flow_obs = flow_obs.set_index('datetime')\n",
    "flow_obs['datetime'] = pd.to_datetime(flow_obs[['year', 'month', 'day']])\n",
    "fc.calc_water_year_apply(flow_obs)\n",
    "flow_obs['water_year_str'] = flow_obs['water_year'].astype(str)\n",
    "flow_obs"
   ],
   "metadata": {
    "collapsed": false,
    "pycharm": {
     "name": "#%%\n"
    }
   }
  },
  {
   "cell_type": "code",
   "execution_count": 8,
   "outputs": [],
   "source": [
    "flow_model = pd.read_csv(path_flow_model, sep='\\s+', header = None)\n",
    "flow_model.columns = ['year', 'month', 'day', 'Q_cms']"
   ],
   "metadata": {
    "collapsed": false,
    "pycharm": {
     "name": "#%%\n"
    }
   }
  },
  {
   "cell_type": "code",
   "execution_count": 9,
   "outputs": [],
   "source": [
    "flow_model['datetime'] = pd.to_datetime(flow_model[['year', 'month', 'day']])\n",
    "flow_model = flow_model.set_index('datetime')\n",
    "\n",
    "flow_model['datetime'] = pd.to_datetime(flow_model[['year', 'month', 'day']])"
   ],
   "metadata": {
    "collapsed": false,
    "pycharm": {
     "name": "#%%\n"
    }
   }
  },
  {
   "cell_type": "code",
   "execution_count": 10,
   "outputs": [
    {
     "data": {
      "text/plain": "            year  month  day     Q_cms   datetime  water_year water_year_str\ndatetime                                                                    \n1981-01-01  1981      1    1  293.0442 1981-01-01        1981           1981\n1981-01-02  1981      1    2  150.0163 1981-01-02        1981           1981\n1981-01-03  1981      1    3   54.5583 1981-01-03        1981           1981\n1981-01-04  1981      1    4   26.4289 1981-01-04        1981           1981\n1981-01-05  1981      1    5   15.0847 1981-01-05        1981           1981\n...          ...    ...  ...       ...        ...         ...            ...\n2015-12-27  2015     12   27    8.1309 2015-12-27        2016           2016\n2015-12-28  2015     12   28    8.1614 2015-12-28        2016           2016\n2015-12-29  2015     12   29   10.3486 2015-12-29        2016           2016\n2015-12-30  2015     12   30    8.5960 2015-12-30        2016           2016\n2015-12-31  2015     12   31    7.3509 2015-12-31        2016           2016\n\n[12783 rows x 7 columns]",
      "text/html": "<div>\n<style scoped>\n    .dataframe tbody tr th:only-of-type {\n        vertical-align: middle;\n    }\n\n    .dataframe tbody tr th {\n        vertical-align: top;\n    }\n\n    .dataframe thead th {\n        text-align: right;\n    }\n</style>\n<table border=\"1\" class=\"dataframe\">\n  <thead>\n    <tr style=\"text-align: right;\">\n      <th></th>\n      <th>year</th>\n      <th>month</th>\n      <th>day</th>\n      <th>Q_cms</th>\n      <th>datetime</th>\n      <th>water_year</th>\n      <th>water_year_str</th>\n    </tr>\n    <tr>\n      <th>datetime</th>\n      <th></th>\n      <th></th>\n      <th></th>\n      <th></th>\n      <th></th>\n      <th></th>\n      <th></th>\n    </tr>\n  </thead>\n  <tbody>\n    <tr>\n      <th>1981-01-01</th>\n      <td>1981</td>\n      <td>1</td>\n      <td>1</td>\n      <td>293.0442</td>\n      <td>1981-01-01</td>\n      <td>1981</td>\n      <td>1981</td>\n    </tr>\n    <tr>\n      <th>1981-01-02</th>\n      <td>1981</td>\n      <td>1</td>\n      <td>2</td>\n      <td>150.0163</td>\n      <td>1981-01-02</td>\n      <td>1981</td>\n      <td>1981</td>\n    </tr>\n    <tr>\n      <th>1981-01-03</th>\n      <td>1981</td>\n      <td>1</td>\n      <td>3</td>\n      <td>54.5583</td>\n      <td>1981-01-03</td>\n      <td>1981</td>\n      <td>1981</td>\n    </tr>\n    <tr>\n      <th>1981-01-04</th>\n      <td>1981</td>\n      <td>1</td>\n      <td>4</td>\n      <td>26.4289</td>\n      <td>1981-01-04</td>\n      <td>1981</td>\n      <td>1981</td>\n    </tr>\n    <tr>\n      <th>1981-01-05</th>\n      <td>1981</td>\n      <td>1</td>\n      <td>5</td>\n      <td>15.0847</td>\n      <td>1981-01-05</td>\n      <td>1981</td>\n      <td>1981</td>\n    </tr>\n    <tr>\n      <th>...</th>\n      <td>...</td>\n      <td>...</td>\n      <td>...</td>\n      <td>...</td>\n      <td>...</td>\n      <td>...</td>\n      <td>...</td>\n    </tr>\n    <tr>\n      <th>2015-12-27</th>\n      <td>2015</td>\n      <td>12</td>\n      <td>27</td>\n      <td>8.1309</td>\n      <td>2015-12-27</td>\n      <td>2016</td>\n      <td>2016</td>\n    </tr>\n    <tr>\n      <th>2015-12-28</th>\n      <td>2015</td>\n      <td>12</td>\n      <td>28</td>\n      <td>8.1614</td>\n      <td>2015-12-28</td>\n      <td>2016</td>\n      <td>2016</td>\n    </tr>\n    <tr>\n      <th>2015-12-29</th>\n      <td>2015</td>\n      <td>12</td>\n      <td>29</td>\n      <td>10.3486</td>\n      <td>2015-12-29</td>\n      <td>2016</td>\n      <td>2016</td>\n    </tr>\n    <tr>\n      <th>2015-12-30</th>\n      <td>2015</td>\n      <td>12</td>\n      <td>30</td>\n      <td>8.5960</td>\n      <td>2015-12-30</td>\n      <td>2016</td>\n      <td>2016</td>\n    </tr>\n    <tr>\n      <th>2015-12-31</th>\n      <td>2015</td>\n      <td>12</td>\n      <td>31</td>\n      <td>7.3509</td>\n      <td>2015-12-31</td>\n      <td>2016</td>\n      <td>2016</td>\n    </tr>\n  </tbody>\n</table>\n<p>12783 rows × 7 columns</p>\n</div>"
     },
     "execution_count": 10,
     "metadata": {},
     "output_type": "execute_result"
    }
   ],
   "source": [
    "#apply water year\n",
    "fc.calc_water_year_apply(flow_model)\n",
    "flow_model['water_year_str'] = flow_model['water_year'].astype(str)\n",
    "flow_model"
   ],
   "metadata": {
    "collapsed": false,
    "pycharm": {
     "name": "#%%\n"
    }
   }
  },
  {
   "cell_type": "code",
   "execution_count": 11,
   "outputs": [],
   "source": [
    "flow_model_by_wy = flow_model.groupby(['water_year_str'])\n",
    "flow_obs_by_wy = flow_obs.groupby(['water_year_str'])"
   ],
   "metadata": {
    "collapsed": false,
    "pycharm": {
     "name": "#%%\n"
    }
   }
  },
  {
   "cell_type": "code",
   "execution_count": 12,
   "outputs": [
    {
     "data": {
      "text/plain": "dict_keys(['1981', '1982', '1983', '1984', '1985', '1986', '1987', '1988', '1989', '1990', '1991', '1992', '1993', '1994', '1995', '1996', '1997', '1998', '1999', '2000', '2001', '2002', '2003', '2004', '2005', '2006', '2007', '2008', '2009', '2010', '2011', '2012', '2013', '2014', '2015', '2016'])"
     },
     "execution_count": 12,
     "metadata": {},
     "output_type": "execute_result"
    }
   ],
   "source": [
    "wy_groups = flow_model_by_wy.groups\n",
    "#wy_groups\n",
    "wy_groups.keys()"
   ],
   "metadata": {
    "collapsed": false,
    "pycharm": {
     "name": "#%%\n"
    }
   }
  },
  {
   "cell_type": "code",
   "execution_count": 22,
   "outputs": [
    {
     "data": {
      "text/plain": "            year  month  day     Q_cms   datetime  water_year water_year_str\ndatetime                                                                    \n2011-10-01  2011     10    1   31.8906 2011-10-01        2012           2012\n2011-10-02  2011     10    2   23.7640 2011-10-02        2012           2012\n2011-10-03  2011     10    3  108.9702 2011-10-03        2012           2012\n2011-10-04  2011     10    4   42.4345 2011-10-04        2012           2012\n2011-10-05  2011     10    5   27.2386 2011-10-05        2012           2012\n...          ...    ...  ...       ...        ...         ...            ...\n2012-09-26  2012      9   26    3.3531 2012-09-26        2012           2012\n2012-09-27  2012      9   27    3.5789 2012-09-27        2012           2012\n2012-09-28  2012      9   28    3.9306 2012-09-28        2012           2012\n2012-09-29  2012      9   29    3.8457 2012-09-29        2012           2012\n2012-09-30  2012      9   30    2.9613 2012-09-30        2012           2012\n\n[366 rows x 7 columns]",
      "text/html": "<div>\n<style scoped>\n    .dataframe tbody tr th:only-of-type {\n        vertical-align: middle;\n    }\n\n    .dataframe tbody tr th {\n        vertical-align: top;\n    }\n\n    .dataframe thead th {\n        text-align: right;\n    }\n</style>\n<table border=\"1\" class=\"dataframe\">\n  <thead>\n    <tr style=\"text-align: right;\">\n      <th></th>\n      <th>year</th>\n      <th>month</th>\n      <th>day</th>\n      <th>Q_cms</th>\n      <th>datetime</th>\n      <th>water_year</th>\n      <th>water_year_str</th>\n    </tr>\n    <tr>\n      <th>datetime</th>\n      <th></th>\n      <th></th>\n      <th></th>\n      <th></th>\n      <th></th>\n      <th></th>\n      <th></th>\n    </tr>\n  </thead>\n  <tbody>\n    <tr>\n      <th>2011-10-01</th>\n      <td>2011</td>\n      <td>10</td>\n      <td>1</td>\n      <td>31.8906</td>\n      <td>2011-10-01</td>\n      <td>2012</td>\n      <td>2012</td>\n    </tr>\n    <tr>\n      <th>2011-10-02</th>\n      <td>2011</td>\n      <td>10</td>\n      <td>2</td>\n      <td>23.7640</td>\n      <td>2011-10-02</td>\n      <td>2012</td>\n      <td>2012</td>\n    </tr>\n    <tr>\n      <th>2011-10-03</th>\n      <td>2011</td>\n      <td>10</td>\n      <td>3</td>\n      <td>108.9702</td>\n      <td>2011-10-03</td>\n      <td>2012</td>\n      <td>2012</td>\n    </tr>\n    <tr>\n      <th>2011-10-04</th>\n      <td>2011</td>\n      <td>10</td>\n      <td>4</td>\n      <td>42.4345</td>\n      <td>2011-10-04</td>\n      <td>2012</td>\n      <td>2012</td>\n    </tr>\n    <tr>\n      <th>2011-10-05</th>\n      <td>2011</td>\n      <td>10</td>\n      <td>5</td>\n      <td>27.2386</td>\n      <td>2011-10-05</td>\n      <td>2012</td>\n      <td>2012</td>\n    </tr>\n    <tr>\n      <th>...</th>\n      <td>...</td>\n      <td>...</td>\n      <td>...</td>\n      <td>...</td>\n      <td>...</td>\n      <td>...</td>\n      <td>...</td>\n    </tr>\n    <tr>\n      <th>2012-09-26</th>\n      <td>2012</td>\n      <td>9</td>\n      <td>26</td>\n      <td>3.3531</td>\n      <td>2012-09-26</td>\n      <td>2012</td>\n      <td>2012</td>\n    </tr>\n    <tr>\n      <th>2012-09-27</th>\n      <td>2012</td>\n      <td>9</td>\n      <td>27</td>\n      <td>3.5789</td>\n      <td>2012-09-27</td>\n      <td>2012</td>\n      <td>2012</td>\n    </tr>\n    <tr>\n      <th>2012-09-28</th>\n      <td>2012</td>\n      <td>9</td>\n      <td>28</td>\n      <td>3.9306</td>\n      <td>2012-09-28</td>\n      <td>2012</td>\n      <td>2012</td>\n    </tr>\n    <tr>\n      <th>2012-09-29</th>\n      <td>2012</td>\n      <td>9</td>\n      <td>29</td>\n      <td>3.8457</td>\n      <td>2012-09-29</td>\n      <td>2012</td>\n      <td>2012</td>\n    </tr>\n    <tr>\n      <th>2012-09-30</th>\n      <td>2012</td>\n      <td>9</td>\n      <td>30</td>\n      <td>2.9613</td>\n      <td>2012-09-30</td>\n      <td>2012</td>\n      <td>2012</td>\n    </tr>\n  </tbody>\n</table>\n<p>366 rows × 7 columns</p>\n</div>"
     },
     "execution_count": 22,
     "metadata": {},
     "output_type": "execute_result"
    }
   ],
   "source": [
    "model_2012 = flow_model_by_wy.get_group('2012')\n",
    "#or, get a specific year with this\n",
    "#model_flow_2011 = flow_model[flow_model['water_year'] == 1981]\n",
    "model_2012"
   ],
   "metadata": {
    "collapsed": false,
    "pycharm": {
     "name": "#%%\n"
    }
   }
  },
  {
   "cell_type": "code",
   "execution_count": 23,
   "outputs": [
    {
     "data": {
      "text/plain": "            year  month  day  Q_cms   datetime  water_year water_year_str\ndatetime                                                                 \n2011-10-01  2011     10    1  12.00 2011-10-01        2012           2012\n2011-10-02  2011     10    2  11.30 2011-10-02        2012           2012\n2011-10-03  2011     10    3  12.30 2011-10-03        2012           2012\n2011-10-04  2011     10    4  14.20 2011-10-04        2012           2012\n2011-10-05  2011     10    5  21.40 2011-10-05        2012           2012\n...          ...    ...  ...    ...        ...         ...            ...\n2012-09-26  2012      9   26   3.78 2012-09-26        2012           2012\n2012-09-27  2012      9   27   3.74 2012-09-27        2012           2012\n2012-09-28  2012      9   28   3.63 2012-09-28        2012           2012\n2012-09-29  2012      9   29   3.64 2012-09-29        2012           2012\n2012-09-30  2012      9   30   3.71 2012-09-30        2012           2012\n\n[366 rows x 7 columns]",
      "text/html": "<div>\n<style scoped>\n    .dataframe tbody tr th:only-of-type {\n        vertical-align: middle;\n    }\n\n    .dataframe tbody tr th {\n        vertical-align: top;\n    }\n\n    .dataframe thead th {\n        text-align: right;\n    }\n</style>\n<table border=\"1\" class=\"dataframe\">\n  <thead>\n    <tr style=\"text-align: right;\">\n      <th></th>\n      <th>year</th>\n      <th>month</th>\n      <th>day</th>\n      <th>Q_cms</th>\n      <th>datetime</th>\n      <th>water_year</th>\n      <th>water_year_str</th>\n    </tr>\n    <tr>\n      <th>datetime</th>\n      <th></th>\n      <th></th>\n      <th></th>\n      <th></th>\n      <th></th>\n      <th></th>\n      <th></th>\n    </tr>\n  </thead>\n  <tbody>\n    <tr>\n      <th>2011-10-01</th>\n      <td>2011</td>\n      <td>10</td>\n      <td>1</td>\n      <td>12.00</td>\n      <td>2011-10-01</td>\n      <td>2012</td>\n      <td>2012</td>\n    </tr>\n    <tr>\n      <th>2011-10-02</th>\n      <td>2011</td>\n      <td>10</td>\n      <td>2</td>\n      <td>11.30</td>\n      <td>2011-10-02</td>\n      <td>2012</td>\n      <td>2012</td>\n    </tr>\n    <tr>\n      <th>2011-10-03</th>\n      <td>2011</td>\n      <td>10</td>\n      <td>3</td>\n      <td>12.30</td>\n      <td>2011-10-03</td>\n      <td>2012</td>\n      <td>2012</td>\n    </tr>\n    <tr>\n      <th>2011-10-04</th>\n      <td>2011</td>\n      <td>10</td>\n      <td>4</td>\n      <td>14.20</td>\n      <td>2011-10-04</td>\n      <td>2012</td>\n      <td>2012</td>\n    </tr>\n    <tr>\n      <th>2011-10-05</th>\n      <td>2011</td>\n      <td>10</td>\n      <td>5</td>\n      <td>21.40</td>\n      <td>2011-10-05</td>\n      <td>2012</td>\n      <td>2012</td>\n    </tr>\n    <tr>\n      <th>...</th>\n      <td>...</td>\n      <td>...</td>\n      <td>...</td>\n      <td>...</td>\n      <td>...</td>\n      <td>...</td>\n      <td>...</td>\n    </tr>\n    <tr>\n      <th>2012-09-26</th>\n      <td>2012</td>\n      <td>9</td>\n      <td>26</td>\n      <td>3.78</td>\n      <td>2012-09-26</td>\n      <td>2012</td>\n      <td>2012</td>\n    </tr>\n    <tr>\n      <th>2012-09-27</th>\n      <td>2012</td>\n      <td>9</td>\n      <td>27</td>\n      <td>3.74</td>\n      <td>2012-09-27</td>\n      <td>2012</td>\n      <td>2012</td>\n    </tr>\n    <tr>\n      <th>2012-09-28</th>\n      <td>2012</td>\n      <td>9</td>\n      <td>28</td>\n      <td>3.63</td>\n      <td>2012-09-28</td>\n      <td>2012</td>\n      <td>2012</td>\n    </tr>\n    <tr>\n      <th>2012-09-29</th>\n      <td>2012</td>\n      <td>9</td>\n      <td>29</td>\n      <td>3.64</td>\n      <td>2012-09-29</td>\n      <td>2012</td>\n      <td>2012</td>\n    </tr>\n    <tr>\n      <th>2012-09-30</th>\n      <td>2012</td>\n      <td>9</td>\n      <td>30</td>\n      <td>3.71</td>\n      <td>2012-09-30</td>\n      <td>2012</td>\n      <td>2012</td>\n    </tr>\n  </tbody>\n</table>\n<p>366 rows × 7 columns</p>\n</div>"
     },
     "execution_count": 23,
     "metadata": {},
     "output_type": "execute_result"
    }
   ],
   "source": [
    "obs_2012 = flow_obs_by_wy.get_group('2012')\n",
    "#or, get a specific year with this\n",
    "#model_flow_2011 = flow_model[flow_model['water_year'] == 1981]\n",
    "obs_2012\n"
   ],
   "metadata": {
    "collapsed": false,
    "pycharm": {
     "name": "#%%\n"
    }
   }
  },
  {
   "cell_type": "code",
   "execution_count": 24,
   "outputs": [
    {
     "data": {
      "text/plain": "0.48930157154117193"
     },
     "execution_count": 24,
     "metadata": {},
     "output_type": "execute_result"
    }
   ],
   "source": [
    "nse_test = fc.nse(model_2012['Q_cms'], obs_2012['Q_cms'])\n",
    "nse_test"
   ],
   "metadata": {
    "collapsed": false,
    "pycharm": {
     "name": "#%%\n"
    }
   }
  },
  {
   "cell_type": "code",
   "execution_count": 24,
   "outputs": [],
   "source": [],
   "metadata": {
    "collapsed": false,
    "pycharm": {
     "name": "#%%\n"
    }
   }
  },
  {
   "cell_type": "code",
   "execution_count": null,
   "outputs": [],
   "source": [],
   "metadata": {
    "collapsed": false,
    "pycharm": {
     "name": "#%%\n"
    }
   }
  },
  {
   "cell_type": "code",
   "execution_count": null,
   "outputs": [],
   "source": [],
   "metadata": {
    "collapsed": false,
    "pycharm": {
     "name": "#%%\n"
    }
   }
  },
  {
   "cell_type": "code",
   "execution_count": null,
   "outputs": [],
   "source": [],
   "metadata": {
    "collapsed": false,
    "pycharm": {
     "name": "#%%\n"
    }
   }
  },
  {
   "cell_type": "code",
   "execution_count": null,
   "outputs": [],
   "source": [],
   "metadata": {
    "collapsed": false,
    "pycharm": {
     "name": "#%%\n"
    }
   }
  }
 ],
 "metadata": {
  "kernelspec": {
   "display_name": "Python 3",
   "language": "python",
   "name": "python3"
  },
  "language_info": {
   "codemirror_mode": {
    "name": "ipython",
    "version": 2
   },
   "file_extension": ".py",
   "mimetype": "text/x-python",
   "name": "python",
   "nbconvert_exporter": "python",
   "pygments_lexer": "ipython2",
   "version": "2.7.6"
  }
 },
 "nbformat": 4,
 "nbformat_minor": 0
}